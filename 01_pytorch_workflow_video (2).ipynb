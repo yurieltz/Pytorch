{
  "nbformat": 4,
  "nbformat_minor": 0,
  "metadata": {
    "colab": {
      "provenance": [],
      "gpuType": "T4"
    },
    "kernelspec": {
      "name": "python3",
      "display_name": "Python 3"
    },
    "language_info": {
      "name": "python"
    },
    "accelerator": "GPU"
  },
  "cells": [
    {
      "cell_type": "code",
      "execution_count": null,
      "metadata": {
        "colab": {
          "base_uri": "https://localhost:8080/"
        },
        "id": "pBkbD3IDoPD0",
        "outputId": "9a77ff27-6486-426b-b24e-4aabbad78015"
      },
      "outputs": [
        {
          "output_type": "execute_result",
          "data": {
            "text/plain": [
              "{1: 'data (prepare and load)',\n",
              " 2: 'build model',\n",
              " 3: 'fitting the model to data (training)',\n",
              " 4: 'making predictions and evaluting a model (inference)',\n",
              " 5: 'saving and loading a model',\n",
              " 6: 'putting it all together'}"
            ]
          },
          "metadata": {},
          "execution_count": 2
        }
      ],
      "source": [
        "what_were_covering = {1: \"data (prepare and load)\",\n",
        "                      2: \"build model\",\n",
        "                      3: \"fitting the model to data (training)\",\n",
        "                      4: \"making predictions and evaluting a model (inference)\",\n",
        "                      5: \"saving and loading a model\",\n",
        "                      6: \"putting it all together\"}\n",
        "what_were_covering"
      ]
    },
    {
      "cell_type": "code",
      "source": [
        "import torch\n",
        "from torch import nn #nn contains all of pytorch building blocks from neural networks\n",
        "import matplotlib.pyplot as plt\n",
        "#check pytorch version\n",
        "torch.__version__"
      ],
      "metadata": {
        "colab": {
          "base_uri": "https://localhost:8080/",
          "height": 36
        },
        "id": "tPaQkUqjqCXU",
        "outputId": "74f7980f-7b5d-4bf0-c131-a4ba0721ebd1"
      },
      "execution_count": null,
      "outputs": [
        {
          "output_type": "execute_result",
          "data": {
            "text/plain": [
              "'2.6.0+cu124'"
            ],
            "application/vnd.google.colaboratory.intrinsic+json": {
              "type": "string"
            }
          },
          "metadata": {},
          "execution_count": 3
        }
      ]
    },
    {
      "cell_type": "markdown",
      "source": [
        "# 1. Data (preparing and loading)\n",
        "Data can be almost anything... in machine learning.\n",
        "\n",
        "* Excel speadsheet\n",
        "\n",
        "* Images of any kind\n",
        "\n",
        "* Videos (YouTube has lots of data...)\n",
        "\n",
        "* Audio like songs or podcasts\n",
        "\n",
        "* DNA\n",
        "\n",
        "* Text\n",
        "\n",
        "Machine learning is a game of two parts:\n",
        "\n",
        "1. Get data into a numberical representation.\n",
        "\n",
        "2. Build a model to learn patterns in that numerical representation.\n",
        "to showcase this , lets´ create some *know* data using linear regression formula to make straight line with *know* **parameters**"
      ],
      "metadata": {
        "id": "8uISwshEq_6y"
      }
    },
    {
      "cell_type": "code",
      "source": [
        "#create  *know* parameters\n",
        "#formula = Y = a + bX\n",
        "weight = 0.7 #--> b\n",
        "bias = 0.3 # --> a\n",
        "#create range of numbers\n",
        "start = 0\n",
        "end = 1\n",
        "step = 0.02\n",
        "X = torch.arange(start, end, step).unsqueeze(dim=1)           # tensor or matrix\n",
        "y = weight * X + bias          #lowcase --> vector\n",
        "\n",
        "X[: 10], y[:10]"
      ],
      "metadata": {
        "colab": {
          "base_uri": "https://localhost:8080/"
        },
        "id": "IOAVQWKas1V8",
        "outputId": "6df117e2-c2c7-4fe1-e5ff-c95a41d919a1"
      },
      "execution_count": null,
      "outputs": [
        {
          "output_type": "execute_result",
          "data": {
            "text/plain": [
              "(tensor([[0.0000],\n",
              "         [0.0200],\n",
              "         [0.0400],\n",
              "         [0.0600],\n",
              "         [0.0800],\n",
              "         [0.1000],\n",
              "         [0.1200],\n",
              "         [0.1400],\n",
              "         [0.1600],\n",
              "         [0.1800]]),\n",
              " tensor([[0.3000],\n",
              "         [0.3140],\n",
              "         [0.3280],\n",
              "         [0.3420],\n",
              "         [0.3560],\n",
              "         [0.3700],\n",
              "         [0.3840],\n",
              "         [0.3980],\n",
              "         [0.4120],\n",
              "         [0.4260]]))"
            ]
          },
          "metadata": {},
          "execution_count": 4
        }
      ]
    },
    {
      "cell_type": "code",
      "source": [
        "len(X), len(y)"
      ],
      "metadata": {
        "colab": {
          "base_uri": "https://localhost:8080/"
        },
        "outputId": "281b6690-b7b2-4da3-ad71-7fbfca764400",
        "id": "lNR-KjTVuMZm"
      },
      "execution_count": null,
      "outputs": [
        {
          "output_type": "execute_result",
          "data": {
            "text/plain": [
              "(50, 50)"
            ]
          },
          "metadata": {},
          "execution_count": 5
        }
      ]
    },
    {
      "cell_type": "markdown",
      "source": [
        "## Splitting data into training and test sets (one of the most important concepts in machine learning in general)\n",
        "\n",
        "Let's create a training and test set with our data."
      ],
      "metadata": {
        "id": "xMnvMMiFwVOX"
      }
    },
    {
      "cell_type": "code",
      "source": [
        "# Create a train/test split\n",
        "train_split = int(0.8 * len(X))\n",
        "X_train, y_train = X[:train_split], y[:train_split]\n",
        "X_test, y_test = X[train_split:], y[train_split:]\n",
        "\n",
        "len(X_train), len(y_train), len(X_test), len(y_test)"
      ],
      "metadata": {
        "colab": {
          "base_uri": "https://localhost:8080/"
        },
        "id": "hHppm5K6wbw4",
        "outputId": "6c204afb-889e-44a2-b073-523d6b65d7b0"
      },
      "execution_count": null,
      "outputs": [
        {
          "output_type": "execute_result",
          "data": {
            "text/plain": [
              "(40, 40, 10, 10)"
            ]
          },
          "metadata": {},
          "execution_count": 6
        }
      ]
    },
    {
      "cell_type": "markdown",
      "source": [
        "#how might we better visualize our data?\n",
        "this is where data explorer´s motto comes in!"
      ],
      "metadata": {
        "id": "hZvyMR44z_OC"
      }
    },
    {
      "cell_type": "code",
      "source": [
        "def plot_predictions(train_data= X_train,\n",
        "                     train_labels= y_train,\n",
        "                     test_data= X_test,\n",
        "                     test_labels= y_test,\n",
        "                     predictions= None):\n",
        "  \"\"\"\n",
        "  Plots training data, test data and compares predictions.\n",
        "  \"\"\"\n",
        "  plt.figure(figsize=(10, 7))\n",
        "  #plot train data in blue\n",
        "  plt.scatter(train_data, train_labels, c=\"b\", s=4, label=\"Training data\")\n",
        "  #plot test data in green\n",
        "  plt.scatter(test_data, test_labels, c=\"g\", s=4, label=\"Testing data\")\n",
        "  #Are the predictions?\n",
        "  if predictions is not None:\n",
        "    #plot the predictions if they exist\n",
        "    plt.scatter(test_data, predictions, c=\"r\", s=4, label=\"Predictions\")\n",
        "  #show the legends\n",
        "  plt.legend(prop={\"size\": 14});\n",
        "\n"
      ],
      "metadata": {
        "id": "55wsMkNg0Tgv"
      },
      "execution_count": null,
      "outputs": []
    },
    {
      "cell_type": "markdown",
      "source": [
        "#material de estudo\n",
        "plt.scatter(...)\tA função\tÉ o comando da biblioteca Matplotlib para criar um gráfico de dispersão, ou seja, um gráfico de pontos.\n",
        "\n",
        "test_data\tCoordenada X\tRepresenta os dados de entrada que foram usados para o teste. Colocamos no eixo X para servir como ponto de referência. Para cada valor de test_data, queremos ver qual foi a previsão do modelo.\n",
        "\n",
        "predictions\tCoordenada Y\tRepresenta a saída ou a resposta do modelo para cada ponto de test_data. Colocamos no eixo Y para ver o valor que o modelo previu.\n",
        "c=\"r\"\tCor\tc significa color. \"r\" define a cor dos pontos como vermelho (red). A escolha do vermelho é proposital: é uma cor que se destaca visualmente do verde (test_labels) e do azul (train_data), facilitando a comparação imediata.\n",
        "\n",
        "s=4\tTamanho\ts significa size. 4 define o tamanho de cada ponto no gráfico. Um valor pequeno como 4 é útil para que, se houver muitos pontos, eles não se sobreponham demais, mantendo o gráfico legível.\n",
        "\n",
        "label=\"Predictions\"\tEtiqueta\tlabel dá um nome a este conjunto de pontos. Esse nome (\"Predictions\") aparecerá na legenda do gráfico, deixando claro para qualquer pessoa que os pontos vermelhos representam as previsões do modelo."
      ],
      "metadata": {
        "id": "FdrvD_UX4-wy"
      }
    },
    {
      "cell_type": "code",
      "source": [
        "plot_predictions()\n"
      ],
      "metadata": {
        "colab": {
          "base_uri": "https://localhost:8080/",
          "height": 599
        },
        "id": "vJmYl9jL2z1q",
        "outputId": "f48df522-aca2-43b3-f11c-a5415f21f8a4"
      },
      "execution_count": null,
      "outputs": [
        {
          "output_type": "display_data",
          "data": {
            "text/plain": [
              "<Figure size 1000x700 with 1 Axes>"
            ],
            "image/png": "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\n"
          },
          "metadata": {}
        }
      ]
    },
    {
      "cell_type": "code",
      "source": [
        "X_train, y_train"
      ],
      "metadata": {
        "colab": {
          "base_uri": "https://localhost:8080/"
        },
        "id": "jiHYX2ggz1z1",
        "outputId": "12401339-6a9c-4cbc-be8b-7996f672632a"
      },
      "execution_count": null,
      "outputs": [
        {
          "output_type": "execute_result",
          "data": {
            "text/plain": [
              "(tensor([[0.0000],\n",
              "         [0.0200],\n",
              "         [0.0400],\n",
              "         [0.0600],\n",
              "         [0.0800],\n",
              "         [0.1000],\n",
              "         [0.1200],\n",
              "         [0.1400],\n",
              "         [0.1600],\n",
              "         [0.1800],\n",
              "         [0.2000],\n",
              "         [0.2200],\n",
              "         [0.2400],\n",
              "         [0.2600],\n",
              "         [0.2800],\n",
              "         [0.3000],\n",
              "         [0.3200],\n",
              "         [0.3400],\n",
              "         [0.3600],\n",
              "         [0.3800],\n",
              "         [0.4000],\n",
              "         [0.4200],\n",
              "         [0.4400],\n",
              "         [0.4600],\n",
              "         [0.4800],\n",
              "         [0.5000],\n",
              "         [0.5200],\n",
              "         [0.5400],\n",
              "         [0.5600],\n",
              "         [0.5800],\n",
              "         [0.6000],\n",
              "         [0.6200],\n",
              "         [0.6400],\n",
              "         [0.6600],\n",
              "         [0.6800],\n",
              "         [0.7000],\n",
              "         [0.7200],\n",
              "         [0.7400],\n",
              "         [0.7600],\n",
              "         [0.7800]]),\n",
              " tensor([[0.3000],\n",
              "         [0.3140],\n",
              "         [0.3280],\n",
              "         [0.3420],\n",
              "         [0.3560],\n",
              "         [0.3700],\n",
              "         [0.3840],\n",
              "         [0.3980],\n",
              "         [0.4120],\n",
              "         [0.4260],\n",
              "         [0.4400],\n",
              "         [0.4540],\n",
              "         [0.4680],\n",
              "         [0.4820],\n",
              "         [0.4960],\n",
              "         [0.5100],\n",
              "         [0.5240],\n",
              "         [0.5380],\n",
              "         [0.5520],\n",
              "         [0.5660],\n",
              "         [0.5800],\n",
              "         [0.5940],\n",
              "         [0.6080],\n",
              "         [0.6220],\n",
              "         [0.6360],\n",
              "         [0.6500],\n",
              "         [0.6640],\n",
              "         [0.6780],\n",
              "         [0.6920],\n",
              "         [0.7060],\n",
              "         [0.7200],\n",
              "         [0.7340],\n",
              "         [0.7480],\n",
              "         [0.7620],\n",
              "         [0.7760],\n",
              "         [0.7900],\n",
              "         [0.8040],\n",
              "         [0.8180],\n",
              "         [0.8320],\n",
              "         [0.8460]]))"
            ]
          },
          "metadata": {},
          "execution_count": 9
        }
      ]
    },
    {
      "cell_type": "markdown",
      "source": [
        "#Build Model"
      ],
      "metadata": {
        "id": "MnXwMjPh7r8a"
      }
    },
    {
      "cell_type": "code",
      "source": [
        "import torch\n",
        "from torch import nn\n",
        "\n",
        "# Create linear regression model class\n",
        "class LinearRegressionModel(nn.Module): # <- almost everything in PyTorch inherits from nn.Module\n",
        "    def __init__(self):\n",
        "        super().__init__()\n",
        "\n",
        "        #initialize model parameters\n",
        "        self.weights = nn.Parameter(torch.randn(1, # <- start with a random weight and try to adjust it to the ideal weight\n",
        "                                                 requires_grad=True, # <- can this parameter be updated via gradient descent?\n",
        "                                                 dtype=torch.float)) # <- PyTorch loves the datatype torch.float32\n",
        "\n",
        "        self.bias = nn.Parameter(torch.randn(1, # <- start with a random bias and try to adjust it to the ideal bias\n",
        "                                             requires_grad=True, # <- can this parameter be updated via gradient descent?\n",
        "                                             dtype=torch.float)) # <- PyTorch loves the datatype torch.float32\n",
        "\n",
        "  
        "    def forward(self, x: torch.Tensor) -> torch.Tensor:\n",
        "        # Esta é a fórmula da regressão linear: Y = a * X + b\n",
        "        return self.weights * x + self.bias"
      ],
      "metadata": {
        "id": "LkGRTMjC7rMN"
      },
      "execution_count": null,
      "outputs": []
    },
    {
      "cell_type": "markdown",
      "source": [
        "##PyTorch model building essentials\n",
        "\n",
        "torch.nn - contém todos os blocos de construção para grafos computacionais (uma rede neural pode ser considerada um grafo computacional).\n",
        "\n",
        "torch.nn.Parameter - quais parâmetros nosso modelo deve tentar aprender; frequentemente, uma camada do PyTorch de torch.nn configurará estes para nós.\n",
        "\n",
        "torch.nn.Module - A classe base para todos os módulos de redes neurais; se você criar uma subclasse dela, você deve sobrescrever o método forward().\n",
        "\n",
        "torch.optim - é onde ficam os otimizadores no PyTorch; eles ajudarão com a descida de gradiente.\n",
        "\n",
        "def forward() - Todas as subclasses de nn.Module exigem que você sobrescreva forward(); este método define o que acontece no passo de avanço (forward computation)."
      ],
      "metadata": {
        "id": "OreyKZa-jvLW"
      }
    },
    {
      "cell_type": "markdown",
      "source": [
        "##Checking the contents of our PyTorch model\n",
        "\n",
        "Now we've created a model, let's see what's inside...\n",
        "\n",
        "So we can check our model parameters or what's inside our model using .parameters()."
      ],
      "metadata": {
        "id": "u75zW5TFkEU9"
      }
    },
    {
      "cell_type": "code",
      "source": [
        "\n",
        "#create a random seed\n",
        "torch.manual_seed(42)\n",
        "#create a instance of the model (this is a subclass of nn.Module)\n",
        "model_0 = LinearRegressionModel()\n",
        "\n",
        "#check out the parameters\n",
        "list(model_0.parameters())\n"
      ],
      "metadata": {
        "colab": {
          "base_uri": "https://localhost:8080/"
        },
        "id": "6MUrQsH5ldcw",
        "outputId": "a1a2197e-47f3-418c-8c72-94859db0fc7d"
      },
      "execution_count": null,
      "outputs": [
        {
          "output_type": "execute_result",
          "data": {
            "text/plain": [
              "[Parameter containing:\n",
              " tensor([0.3367], requires_grad=True),\n",
              " Parameter containing:\n",
              " tensor([0.1288], requires_grad=True)]"
            ]
          },
          "metadata": {},
          "execution_count": 11
        }
      ]
    },
    {
      "cell_type": "code",
      "source": [
        "#list named parameters\n",
        "model_0.state_dict()"
      ],
      "metadata": {
        "colab": {
          "base_uri": "https://localhost:8080/"
        },
        "id": "2pxKM-WRptIN",
        "outputId": "84987226-56c0-40df-ede4-d91c12408215"
      },
      "execution_count": null,
      "outputs": [
        {
          "output_type": "execute_result",
          "data": {
            "text/plain": [
              "OrderedDict([('weights', tensor([0.3367])), ('bias', tensor([0.1288]))])"
            ]
          },
          "metadata": {},
          "execution_count": 12
        }
      ]
    },
    {
      "cell_type": "markdown",
      "source": [
        "##Fazendo previsões usando torch.inference_mode()\n",
        "\n",
        "Para checar o poder preditivo do nosso modelo, vamos ver o quão bem ele prevê y_test com base em x_test.\n",
        "Quando passamos dados através do nosso modelo, ele irá executá-los através do método forward()."
      ],
      "metadata": {
        "id": "aAyL66NarbJB"
      }
    },
    {
      "cell_type": "code",
      "source": [
        "# Fazer previsões com o modelo\n",
        "with torch.inference_mode():\n",
        "  y_preds = model_0(X_test)\n",
        "#You also can do something similar with torch.no_grad(), however, inference_mode() is prefer\n",
        "with torch.no_grad():\n",
        "  y_preds = model_0(X_test)\n",
        "y_preds"
      ],
      "metadata": {
        "id": "-wmFrEs1rYu6",
        "colab": {
          "base_uri": "https://localhost:8080/"
        },
        "outputId": "36712b8b-55d4-40d9-d995-7ac400ae4b32"
      },
      "execution_count": null,
      "outputs": [
        {
          "output_type": "execute_result",
          "data": {
            "text/plain": [
              "tensor([[0.3982],\n",
              "        [0.4049],\n",
              "        [0.4116],\n",
              "        [0.4184],\n",
              "        [0.4251],\n",
              "        [0.4318],\n",
              "        [0.4386],\n",
              "        [0.4453],\n",
              "        [0.4520],\n",
              "        [0.4588]])"
            ]
          },
          "metadata": {},
          "execution_count": 13
        }
      ]
    },
    {
      "cell_type": "code",
      "source": [
        "plot_predictions(predictions=y_preds)"
      ],
      "metadata": {
        "colab": {
          "base_uri": "https://localhost:8080/",
          "height": 599
        },
        "id": "UfqHCgntBK4J",
        "outputId": "841f823b-29b5-4a0e-fd0a-51203d91ad0c"
      },
      "execution_count": null,
      "outputs": [
        {
          "output_type": "display_data",
          "data": {
            "text/plain": [
              "<Figure size 1000x700 with 1 Axes>"
            ],
            "image/png": "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\n"
          },
          "metadata": {}
        }
      ]
    },
    {
      "cell_type": "markdown",
      "source": [
        "#Train Model\n",
        "A ideia principal do treinamento é que um modelo passe de alguns parâmetros desconhecidos (que podem ser aleatórios) para alguns parâmetros conhecidos.\n",
        "\n",
        "Ou, em outras palavras, de uma representação ruim dos dados para uma representação melhor dos dados.\n",
        "Uma forma de medir o quão ruins ou quão erradas são as previsões do seu modelo é usar uma função de perda (loss function).\n",
        "\n",
        "Observação: A função de perda também pode ser chamada de função de custo (cost function) ou critério (criterion) em diferentes áreas. Para o nosso caso, vamos nos referir a ela como função de perda.\n",
        "Things we need to train\n",
        "Função de perda: Uma função para medir o quão erradas as previsões do seu modelo estão em relação às saídas ideais; quanto menor, melhor.\n",
        "Otimizador: Leva em consideração a perda (loss) de um modelo e ajusta os parâmetros do modelo (e.g, weight & bias)\n",
        "\n",
        "E especificamente para o PyTorch, nós precisamos de:\n",
        "\n",
        "Um loop de treinamento\n",
        "Um loop de teste"
      ],
      "metadata": {
        "id": "0sBV2Ga6DV_E"
      }
    },
    {
      "cell_type": "code",
      "source": [
        "list(model_0.parameters())"
      ],
      "metadata": {
        "colab": {
          "base_uri": "https://localhost:8080/"
        },
        "id": "e18p-C9rGy2n",
        "outputId": "b5654ec9-f530-472a-864b-2cf4b6f59e76"
      },
      "execution_count": null,
      "outputs": [
        {
          "output_type": "execute_result",
          "data": {
            "text/plain": [
              "[Parameter containing:\n",
              " tensor([0.3367], requires_grad=True),\n",
              " Parameter containing:\n",
              " tensor([0.1288], requires_grad=True)]"
            ]
          },
          "metadata": {},
          "execution_count": 15
        }
      ]
    },
    {
      "cell_type": "code",
      "source": [
        "model_0.state_dict()"
      ],
      "metadata": {
        "id": "EgfefNKtHChb",
        "colab": {
          "base_uri": "https://localhost:8080/"
        },
        "outputId": "6c3bdda1-3e98-46e7-b37e-c3951e263b9c"
      },
      "execution_count": null,
      "outputs": [
        {
          "output_type": "execute_result",
          "data": {
            "text/plain": [
              "OrderedDict([('weights', tensor([0.3367])), ('bias', tensor([0.1288]))])"
            ]
          },
          "metadata": {},
          "execution_count": 16
        }
      ]
    },
    {
      "cell_type": "code",
      "source": [
        "#Setup a loss function\n",
        "loss_fn = nn.L1Loss()\n",
        "#Setup an otimizer (stochastic decent)\n",
        "optimizer = torch.optim.SGD(params=model_0.parameters(),\n",
        "                            lr=0.01) #lr = learning rate = possibly the most important hyperparameter you can set"
      ],
      "metadata": {
        "id": "m2rlvdFdIyoC"
      },
      "execution_count": null,
      "outputs": []
    },
    {
      "cell_type": "markdown",
      "source": [
        "Claro, aqui está o texto traduzido para o português do Brasil:\n",
        "\n",
        "P: Qual função de perda (loss function) e otimizador (optimizer) eu devo usar?\n",
        "\n",
        "R: Isso dependerá do problema. Mas com a experiência, você terá uma ideia do que funciona e o que não funciona para o seu conjunto de problemas específico.\n",
        "\n",
        "Por exemplo, para um problema de regressão (como o nosso), uma função de perda como nn.L1Loss() e um otimizador como torch.optim.SGD() serão suficientes.\n",
        "\n",
        "Mas para um problema de classificação, como classificar se uma foto é de um cachorro ou de um gato, você provavelmente vai querer usar uma função de perda como a nn.BCELoss() (perda de entropia cruzada binária)."
      ],
      "metadata": {
        "id": "hfsFBfEIODQ8"
      }
    },
    {
      "cell_type": "markdown",
      "source": [
        "Construindo um loop de treinamento (e um loop de teste) em PyTorch\n",
        "Algumas coisas que precisamos em um loop de treinamento:\n",
        "\n",
        "0. Fazer um loop pelos dados (Loop through the data)\n",
        "\n",
        "1. Passe direto (Forward pass) (isso envolve mover os dados através das funções forward() do nosso modelo) para fazer previsões nos dados - também chamado de propagação direta (forward propagation).\n",
        "\n",
        "2. Calcular a perda (Calculate the loss) (comparar as previsões do passe direto com os rótulos verdadeiros).\n",
        "\n",
        "3. Zerar o gradiente do otimizador (Optimizer zero grad)\n",
        "\n",
        "4. Retroceder a perda (Loss backward) - mover-se para trás através da rede para calcular os gradientes de cada um dos parâmetros do nosso modelo em relação à perda (backpropagation).\n",
        "\n",
        "5. Passo do otimizador (Optimizer step) - usar o otimizador para ajustar os parâmetros do nosso modelo para tentar melhorar a perda (descida de gradiente)."
      ],
      "metadata": {
        "id": "iQQxP6C3OETl"
      }
    },
    {
      "cell_type": "code",
      "source": [
        "torch.manual_seed(42)\n",
        "#An epoch is one loop through the data...\n",
        "epochs = 200\n",
        "#track different values\n",
        "epoch_count = []\n",
        "loss_values = []\n",
        "test_loss_values = []\n",
        "#0. Loop through the data\n",
        "for epoch in range(epochs):\n",
        "  #set the model to training mode\n",
        "  model_0.train() #train mode in pytorch sets all parameters that require gradients to require gradients\n",
        "  #1. forward pass\n",
        "  y_pred = model_0(X_train)\n",
        "  #2.Calculate  the loss\n",
        "  loss = loss_fn(y_pred, y_train)\n",
        "  print(f\"Loss: {loss}\")\n",
        "  #3. Otimizer zero grad\n",
        "  optimizer.zero_grad()\n",
        "  #4. Perform backpropagation on the loss with respect to the paremeters of the model\n",
        "  loss.backward()\n",
        "  #5. Step the otimizer (perform gradient descent)\n",
        "  optimizer.step() #by default how the optimizer changes will accumulate through the loop so....  we have to zero them above in step 3 for the next iteratiion of the loop\n",
        "\n",
        "#Testing\n",
        "  model_0.eval() #turns off different settings in the model not needed for evaluation/testing (dropout/batch norms layers)\n",
        "  with torch.inference_mode(): #turns off gradient tracking & a couple more things behind the scenes\n",
        "    with torch.no_grad(): #you may also see torch.no_grad() in older pytorch code\n",
        "      #1. Do the forward pass\n",
        "      test_pred = model_0(X_test)\n",
        "\n",
        "      #2. Calculate the loss\n",
        "      test_loss = loss_fn(test_pred, y_test)\n",
        "  #Print out what´s happenin '\n",
        "  if epoch % 10 == 0:\n",
        "    epoch_count.append(epoch)\n",
        "    loss_values.append(loss)\n",
        "    test_loss_values.append(test_loss)\n",
        "    print(f\"Epoch: {epoch} | Loss: {loss} | Test Loss: {test_loss}\")\n",
        "\n",
        "#Print out model state_dict()\n",
        "print(model_0.state_dict())"
      ],
      "metadata": {
        "colab": {
          "base_uri": "https://localhost:8080/"
        },
        "id": "-4sXewqLPtdy",
        "outputId": "9279cd23-de1c-4e6d-feb2-f1158a9c1970"
      },
      "execution_count": null,
      "outputs": [
        {
          "output_type": "stream",
          "name": "stdout",
          "text": [
            "Loss: 0.31288138031959534\n",
            "Epoch: 0 | Loss: 0.31288138031959534 | Test Loss: 0.48106518387794495\n",
            "Loss: 0.3013603389263153\n",
            "Loss: 0.28983935713768005\n",
            "Loss: 0.2783183455467224\n",
            "Loss: 0.26679736375808716\n",
            "Loss: 0.2552763521671295\n",
            "Loss: 0.24375534057617188\n",
            "Loss: 0.23223432898521423\n",
            "Loss: 0.22071333229541779\n",
            "Loss: 0.20919232070446014\n",
            "Loss: 0.1976713240146637\n",
            "Epoch: 10 | Loss: 0.1976713240146637 | Test Loss: 0.3463551998138428\n",
            "Loss: 0.18615034222602844\n",
            "Loss: 0.1746293306350708\n",
            "Loss: 0.16310831904411316\n",
            "Loss: 0.1515873372554779\n",
            "Loss: 0.14006635546684265\n",
            "Loss: 0.1285453587770462\n",
            "Loss: 0.11702437698841095\n",
            "Loss: 0.1060912236571312\n",
            "Loss: 0.09681284427642822\n",
            "Loss: 0.08908725529909134\n",
            "Epoch: 20 | Loss: 0.08908725529909134 | Test Loss: 0.21729660034179688\n",
            "Loss: 0.08227583020925522\n",
            "Loss: 0.07638873159885406\n",
            "Loss: 0.07160007208585739\n",
            "Loss: 0.06747635453939438\n",
            "Loss: 0.06395438313484192\n",
            "Loss: 0.06097004935145378\n",
            "Loss: 0.05845819041132927\n",
            "Loss: 0.05635259300470352\n",
            "Loss: 0.0545857772231102\n",
            "Loss: 0.053148526698350906\n",
            "Epoch: 30 | Loss: 0.053148526698350906 | Test Loss: 0.14464017748832703\n",
            "Loss: 0.05181945487856865\n",
            "Loss: 0.05069301277399063\n",
            "Loss: 0.0498228520154953\n",
            "Loss: 0.04895269125699997\n",
            "Loss: 0.04819351062178612\n",
            "Loss: 0.047531817108392715\n",
            "Loss: 0.04692792519927025\n",
            "Loss: 0.04642331600189209\n",
            "Loss: 0.04591871052980423\n",
            "Loss: 0.04543796554207802\n",
            "Epoch: 40 | Loss: 0.04543796554207802 | Test Loss: 0.11360953003168106\n",
            "Loss: 0.04503796249628067\n",
            "Loss: 0.04463795945048332\n",
            "Loss: 0.04423796385526657\n",
            "Loss: 0.04383796453475952\n",
            "Loss: 0.04343796148896217\n",
            "Loss: 0.043074630200862885\n",
            "Loss: 0.04272563382983208\n",
            "Loss: 0.04237663000822067\n",
            "Loss: 0.04202762991189957\n",
            "Loss: 0.04167863354086876\n",
            "Epoch: 50 | Loss: 0.04167863354086876 | Test Loss: 0.09919948130846024\n",
            "Loss: 0.04132963344454765\n",
            "Loss: 0.04098063334822655\n",
            "Loss: 0.04063162952661514\n",
            "Loss: 0.040282636880874634\n",
            "Loss: 0.039933640509843826\n",
            "Loss: 0.03958464413881302\n",
            "Loss: 0.03923564404249191\n",
            "Loss: 0.03888664394617081\n",
            "Loss: 0.0385376438498497\n",
            "Loss: 0.03818932920694351\n",
            "Epoch: 60 | Loss: 0.03818932920694351 | Test Loss: 0.08886633068323135\n",
            "Loss: 0.03785243630409241\n",
            "Loss: 0.0375034399330616\n",
            "Loss: 0.037164121866226196\n",
            "Loss: 0.03681822493672371\n",
            "Loss: 0.03647511452436447\n",
            "Loss: 0.03613303601741791\n",
            "Loss: 0.03578609973192215\n",
            "Loss: 0.03544783592224121\n",
            "Loss: 0.035098835825920105\n",
            "Loss: 0.03476089984178543\n",
            "Epoch: 70 | Loss: 0.03476089984178543 | Test Loss: 0.0805937647819519\n",
            "Loss: 0.03441363573074341\n",
            "Loss: 0.03407188132405281\n",
            "Loss: 0.03372843936085701\n",
            "Loss: 0.03338287025690079\n",
            "Loss: 0.033043231815099716\n",
            "Loss: 0.03269423171877861\n",
            "Loss: 0.032357655465602875\n",
            "Loss: 0.03200903534889221\n",
            "Loss: 0.03166864812374115\n",
            "Loss: 0.03132382780313492\n",
            "Epoch: 80 | Loss: 0.03132382780313492 | Test Loss: 0.07232122868299484\n",
            "Loss: 0.030979642644524574\n",
            "Loss: 0.030638623982667923\n",
            "Loss: 0.0302906334400177\n",
            "Loss: 0.029953425750136375\n",
            "Loss: 0.02960442565381527\n",
            "Loss: 0.029265418648719788\n",
            "Loss: 0.028919223695993423\n",
            "Loss: 0.028576409444212914\n",
            "Loss: 0.028234025463461876\n",
            "Loss: 0.02788739837706089\n",
            "Epoch: 90 | Loss: 0.02788739837706089 | Test Loss: 0.06473556160926819\n",
            "Loss: 0.02754882536828518\n",
            "Loss: 0.027199819684028625\n",
            "Loss: 0.026862185448408127\n",
            "Loss: 0.02651461586356163\n",
            "Loss: 0.026173178106546402\n",
            "Loss: 0.025829419493675232\n",
            "Loss: 0.02548416517674923\n",
            "Loss: 0.025144213810563087\n",
            "Loss: 0.02479521557688713\n",
            "Loss: 0.024458957836031914\n",
            "Epoch: 100 | Loss: 0.024458957836031914 | Test Loss: 0.05646304413676262\n",
            "Loss: 0.024110013619065285\n",
            "Loss: 0.02376994863152504\n",
            "Loss: 0.02342480979859829\n",
            "Loss: 0.023080935701727867\n",
            "Loss: 0.022739607840776443\n",
            "Loss: 0.022391926497220993\n",
            "Loss: 0.022054409608244896\n",
            "Loss: 0.02170540764927864\n",
            "Loss: 0.021366719156503677\n",
            "Loss: 0.021020207554101944\n",
            "Epoch: 110 | Loss: 0.021020207554101944 | Test Loss: 0.04819049686193466\n",
            "Loss: 0.020677709951996803\n",
            "Loss: 0.02033500373363495\n",
            "Loss: 0.01998869702219963\n",
            "Loss: 0.019649803638458252\n",
            "Loss: 0.019300809130072594\n",
            "Loss: 0.018963487818837166\n",
            "Loss: 0.01861560344696045\n",
            "Loss: 0.018274478614330292\n",
            "Loss: 0.017930403351783752\n",
            "Loss: 0.01758546568453312\n",
            "Epoch: 120 | Loss: 0.01758546568453312 | Test Loss: 0.04060482233762741\n",
            "Loss: 0.017245199531316757\n",
            "Loss: 0.016896454617381096\n",
            "Loss: 0.01656000316143036\n",
            "Loss: 0.016210997477173805\n",
            "Loss: 0.01587124727666378\n",
            "Loss: 0.015525798313319683\n",
            "Loss: 0.015182236209511757\n",
            "Loss: 0.014840595424175262\n",
            "Loss: 0.01449323259294033\n",
            "Loss: 0.014155393466353416\n",
            "Epoch: 130 | Loss: 0.014155393466353416 | Test Loss: 0.03233227878808975\n",
            "Loss: 0.013806397095322609\n",
            "Loss: 0.013468016870319843\n",
            "Loss: 0.013121193274855614\n",
            "Loss: 0.01277900766581297\n",
            "Loss: 0.012435992248356342\n",
            "Loss: 0.01208999752998352\n",
            "Loss: 0.011750795878469944\n",
            "Loss: 0.011401787400245667\n",
            "Loss: 0.011064787395298481\n",
            "Loss: 0.010716589167714119\n",
            "Epoch: 140 | Loss: 0.010716589167714119 | Test Loss: 0.024059748277068138\n",
            "Loss: 0.010375778190791607\n",
            "Loss: 0.010031387209892273\n",
            "Loss: 0.009686763398349285\n",
            "Loss: 0.009346187114715576\n",
            "Loss: 0.008997755125164986\n",
            "Loss: 0.008660981431603432\n",
            "Loss: 0.008311985060572624\n",
            "Loss: 0.007972544990479946\n",
            "Loss: 0.007626785431057215\n",
            "Loss: 0.0072835334576666355\n",
            "Epoch: 150 | Loss: 0.0072835334576666355 | Test Loss: 0.016474086791276932\n",
            "Loss: 0.006941580679267645\n",
            "Loss: 0.006594526115804911\n",
            "Loss: 0.006256377790123224\n",
            "Loss: 0.005907376762479544\n",
            "Loss: 0.005569315515458584\n",
            "Loss: 0.005222178064286709\n",
            "Loss: 0.004880306776612997\n",
            "Loss: 0.004536976106464863\n",
            "Loss: 0.00419129803776741\n",
            "Loss: 0.0038517764769494534\n",
            "Epoch: 160 | Loss: 0.0038517764769494534 | Test Loss: 0.008201557211577892\n",
            "Loss: 0.0035027749836444855\n",
            "Loss: 0.0031660839449614286\n",
            "Loss: 0.002817571861669421\n",
            "Loss: 0.0024770735763013363\n",
            "Loss: 0.0021323717664927244\n",
            "Loss: 0.0017880648374557495\n",
            "Loss: 0.0014518328243866563\n",
            "Loss: 0.0011887758737429976\n",
            "Loss: 0.0025885067880153656\n",
            "Loss: 0.008932482451200485\n",
            "Epoch: 170 | Loss: 0.008932482451200485 | Test Loss: 0.005023092031478882\n",
            "Loss: 0.0025885067880153656\n",
            "Loss: 0.008932482451200485\n",
            "Loss: 0.0025885067880153656\n",
            "Loss: 0.008932482451200485\n",
            "Loss: 0.0025885067880153656\n",
            "Loss: 0.008932482451200485\n",
            "Loss: 0.0025885067880153656\n",
            "Loss: 0.008932482451200485\n",
            "Loss: 0.0025885067880153656\n",
            "Loss: 0.008932482451200485\n",
            "Epoch: 180 | Loss: 0.008932482451200485 | Test Loss: 0.005023092031478882\n",
            "Loss: 0.0025885067880153656\n",
            "Loss: 0.008932482451200485\n",
            "Loss: 0.0025885067880153656\n",
            "Loss: 0.008932482451200485\n",
            "Loss: 0.0025885067880153656\n",
            "Loss: 0.008932482451200485\n",
            "Loss: 0.0025885067880153656\n",
            "Loss: 0.008932482451200485\n",
            "Loss: 0.0025885067880153656\n",
            "Loss: 0.008932482451200485\n",
            "Epoch: 190 | Loss: 0.008932482451200485 | Test Loss: 0.005023092031478882\n",
            "Loss: 0.0025885067880153656\n",
            "Loss: 0.008932482451200485\n",
            "Loss: 0.0025885067880153656\n",
            "Loss: 0.008932482451200485\n",
            "Loss: 0.0025885067880153656\n",
            "Loss: 0.008932482451200485\n",
            "Loss: 0.0025885067880153656\n",
            "Loss: 0.008932482451200485\n",
            "Loss: 0.0025885067880153656\n",
            "OrderedDict([('weights', tensor([0.6990])), ('bias', tensor([0.3093]))])\n"
          ]
        }
      ]
    },
    {
      "cell_type": "code",
      "source": [
        "import numpy as np\n",
        "np.array(torch.tensor(loss_values).numpy()), test_loss_values"
      ],
      "metadata": {
        "colab": {
          "base_uri": "https://localhost:8080/"
        },
        "id": "twzxo6SXcUwO",
        "outputId": "1cc11fca-09bd-43d0-f629-a0fc7cb79dd8"
      },
      "execution_count": null,
      "outputs": [
        {
          "output_type": "execute_result",
          "data": {
            "text/plain": [
              "(array([0.31288138, 0.19767132, 0.08908726, 0.05314853, 0.04543797,\n",
              "        0.04167863, 0.03818933, 0.0347609 , 0.03132383, 0.0278874 ,\n",
              "        0.02445896, 0.02102021, 0.01758547, 0.01415539, 0.01071659,\n",
              "        0.00728353, 0.00385178, 0.00893248, 0.00893248, 0.00893248],\n",
              "       dtype=float32),\n",
              " [tensor(0.4811),\n",
              "  tensor(0.3464),\n",
              "  tensor(0.2173),\n",
              "  tensor(0.1446),\n",
              "  tensor(0.1136),\n",
              "  tensor(0.0992),\n",
              "  tensor(0.0889),\n",
              "  tensor(0.0806),\n",
              "  tensor(0.0723),\n",
              "  tensor(0.0647),\n",
              "  tensor(0.0565),\n",
              "  tensor(0.0482),\n",
              "  tensor(0.0406),\n",
              "  tensor(0.0323),\n",
              "  tensor(0.0241),\n",
              "  tensor(0.0165),\n",
              "  tensor(0.0082),\n",
              "  tensor(0.0050),\n",
              "  tensor(0.0050),\n",
              "  tensor(0.0050)])"
            ]
          },
          "metadata": {},
          "execution_count": 19
        }
      ]
    },
    {
      "cell_type": "code",
      "source": [
        "#plot the loss curves\n",
        "plt.plot(epoch_count, np.array(torch.tensor(loss_values).numpy()), label=\"Train Loss\")\n",
        "plt.plot(epoch_count, test_loss_values, label=\"test loss\")\n",
        "plt.title(\"Training and test loss curves\")\n",
        "plt.ylabel(\"Loss\")\n",
        "plt.xlabel(\"Epochs\")\n",
        
      ],
      "metadata": {
        "colab": {
          "base_uri": "https://localhost:8080/",
          "height": 631
        },
        "id": "Nf1IdKsIbdds",
        "outputId": "c564f238-ca9f-4c43-db94-c59ab2686f5d"
      },
      "execution_count": null,
      "outputs": [
        {
          "output_type": "error",
          "ename": "AttributeError",
          "evalue": "module 'matplotlib.pyplot' has no attribute 'Legend'",
          "traceback": [
            "\u001b[0;31m---------------------------------------------------------------------------\u001b[0m",
            "\u001b[0;31mAttributeError\u001b[0m                            Traceback (most recent call last)",
            "\u001b[0;32m/tmp/ipython-input-2465054458.py\u001b[0m in \u001b[0;36m<cell line: 0>\u001b[0;34m()\u001b[0m\n\u001b[1;32m      5\u001b[0m \u001b[0mplt\u001b[0m\u001b[0;34m.\u001b[0m\u001b[0mylabel\u001b[0m\u001b[0;34m(\u001b[0m\u001b[0;34m\"Loss\"\u001b[0m\u001b[0;34m)\u001b[0m\u001b[0;34m\u001b[0m\u001b[0;34m\u001b[0m\u001b[0m\n\u001b[1;32m      6\u001b[0m \u001b[0mplt\u001b[0m\u001b[0;34m.\u001b[0m\u001b[0mxlabel\u001b[0m\u001b[0;34m(\u001b[0m\u001b[0;34m\"Epochs\"\u001b[0m\u001b[0;34m)\u001b[0m\u001b[0;34m\u001b[0m\u001b[0;34m\u001b[0m\u001b[0m\n\u001b[0;32m----> 7\u001b[0;31m \u001b[0mplt\u001b[0m\u001b[0;34m.\u001b[0m\u001b[0mLegend\u001b[0m\u001b[0;34m(\u001b[0m\u001b[0;34m)\u001b[0m\u001b[0;34m\u001b[0m\u001b[0;34m\u001b[0m\u001b[0m\n\u001b[0m",
            "\u001b[0;31mAttributeError\u001b[0m: module 'matplotlib.pyplot' has no attribute 'Legend'"
          ]
        },
        {
          "output_type": "display_data",
          "data": {
            "text/plain": [
              "<Figure size 640x480 with 1 Axes>"
            ],
            "image/png": "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\n"
          },
          "metadata": {}
        }
      ]
    },
    {
      "cell_type": "code",
      "source": [
        "model_0.state_dict() #*"
      ],
      "metadata": {
        "colab": {
          "base_uri": "https://localhost:8080/"
        },
        "id": "ViiGHuqyQ6Mz",
        "outputId": "880d121f-eca5-40be-c056-4a87325631cc"
      },
      "execution_count": null,
      "outputs": [
        {
          "output_type": "execute_result",
          "data": {
            "text/plain": [
              "OrderedDict([('weights', tensor([0.6990])), ('bias', tensor([0.3093]))])"
            ]
          },
          "metadata": {},
          "execution_count": 21
        }
      ]
    },
    {
      "cell_type": "code",
      "source": [
        "weight, bias"
      ],
      "metadata": {
        "colab": {
          "base_uri": "https://localhost:8080/"
        },
        "id": "IXAmFcNTRCKV",
        "outputId": "7f328dd3-3f45-4594-d903-eefd2544f742"
      },
      "execution_count": null,
      "outputs": [
        {
          "output_type": "execute_result",
          "data": {
            "text/plain": [
              "(0.7, 0.3)"
            ]
          },
          "metadata": {},
          "execution_count": 22
        }
      ]
    },
    {
      "cell_type": "code",
      "source": [
        "with torch.inference_mode():\n",
        "  y_preds_new = model_0(X_test)\n"
      ],
      "metadata": {
        "id": "mDzsAaBJTBF2"
      },
      "execution_count": null,
      "outputs": []
    },
    {
      "cell_type": "code",
      "source": [
        "plot_predictions(predictions=y_preds);"
      ],
      "metadata": {
        "colab": {
          "base_uri": "https://localhost:8080/",
          "height": 599
        },
        "id": "fvePDXr5TNPS",
        "outputId": "07f3a7fe-5fa2-4044-a1c0-03ee4bef9387"
      },
      "execution_count": null,
      "outputs": [
        {
          "output_type": "display_data",
          "data": {
            "text/plain": [
              "<Figure size 1000x700 with 1 Axes>"
            ],
            "image/png": "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\n"
          },
          "metadata": {}
        }
      ]
    },
    {
      "cell_type": "code",
      "source": [
        "plot_predictions(predictions=y_preds_new);"
      ],
      "metadata": {
        "colab": {
          "base_uri": "https://localhost:8080/",
          "height": 599
        },
        "id": "xjpbWN7eTeuS",
        "outputId": "2c899814-c323-4879-89b3-3ba335cb3036"
      },
      "execution_count": null,
      "outputs": [
        {
          "output_type": "display_data",
          "data": {
            "text/plain": [
              "<Figure size 1000x700 with 1 Axes>"
            ],
            "image/png": "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\n"
          },
          "metadata": {}
        }
      ]
    },
    {
      "cell_type": "code",
      "metadata": {
        "colab": {
          "base_uri": "https://localhost:8080/",
          "height": 599
        },
        "id": "f8137836",
        "outputId": "f30f56bc-d317-435d-ef1d-66ea7b1c587d"
      },
      "source": [
        "# Plot predictions\n",
        "with torch.inference_mode():\n",
        "    y_preds_new = model_0(X_test)\n",
        "\n",
        "plot_predictions(predictions=y_preds_new)"
      ],
      "execution_count": null,
      "outputs": [
        {
          "output_type": "display_data",
          "data": {
            "text/plain": [
              "<Figure size 1000x700 with 1 Axes>"
            ],
            "image/png": "iVBORw0KGgoAAAANSUhEUgAAAzoAAAJGCAYAAACTJvC6AAAAOnRFWHRTb2Z0d2FyZQBNYXRwbG90bGliIHZlcnNpb24zLjEwLjAsIGh0dHBzOi8vbWF0cGxvdGxpYi5vcmcvlHJYcgAAAAlwSFlzAAAPYQAAD2EBqD+naQAAVK9JREFUeJzt3Xt4U2W+9vE7DT2A0HYAKQc7FEFBR+QoiCcSrXZGNgmOjqgjp634qoyHVoeBUSjoxupsxY4Rxc3m4GErOIJmveKuSifFUXBwQBwPUAc5iraAYosVWkjX+0fepsa20JS2SVa/n+vKlWFlrZVfyiqT2+dZz89mmqYpAAAAALCQuEgXAAAAAADNjaADAAAAwHIIOgAAAAAsh6ADAAAAwHIIOgAAAAAsh6ADAAAAwHIIOgAAAAAsp12kC2iM6upqffXVV+rUqZNsNlukywEAAAAQIaZp6tChQ+rZs6fi4hoet4mJoPPVV18pPT090mUAAAAAiBJ79uzRaaed1uDrMRF0OnXqJCnwYZKTkyNcDQAAAIBIKS8vV3p6ejAjNCQmgk7NdLXk5GSCDgAAAIAT3tLCYgQAAAAALIegAwAAAMByCDoAAAAALIegAwAAAMByCDoAAAAALIegAwAAAMByYmJ56aY4evSo/H5/pMsAIiI+Pl52uz3SZQAAAESM5YJOeXm5Dhw4oMrKykiXAkSMzWZTSkqKunfvfsI15gEAAKzIUkGnvLxce/fuVceOHdW1a1fFx8fzJQ9tjmmaqqio0P79+9W+fXulpqZGuiQAAIBWZ6mgc+DAAXXs2FGnnXYaAQdtWvv27VVZWal9+/YpJSWF3wcAANDmWGYxgqNHj6qyspIvdcD/l5ycLL/fz71qAACgTbJM0Kn5MhcfHx/hSoDo0K5dYMD22LFjEa4EAACg9Vkm6NRgNAcI4HcBAAC0ZZYLOgAAAAAQdtB55513NHbsWPXs2VM2m02vvfbaCY8pKirS0KFDlZiYqH79+mnZsmVNKBUAAAAAGifsoFNRUaFBgwZpwYIFjdp/x44dGjNmjJxOpzZv3qy7775bN998s958882wi0V0stlscjgcJ3WOoqIi2Ww2zZkzp1lqamkZGRnKyMiIdBkAAABoQNjLS//qV7/Sr371q0bvv3DhQvXp00ePPfaYJOmss87Su+++q8cff1xZWVnhvj0aEO79GKZptlAlaCyHw6G1a9fydwEAANACWryPzvr165WZmRmyLSsrS3fffXeDx1RWVqqysjL45/Ly8pYqzzJyc3PrbMvPz1dZWVm9rzWnLVu2qEOHDid1jhEjRmjLli3q2rVrM1UFAACAtqzFg05JSYnS0tJCtqWlpam8vFyHDx9W+/bt6xyTl5enuXPntnRpllLflK9ly5aprKysxaeDDRgw4KTP0aFDh2Y5DwAAACBF6aprM2fOVFlZWfCxZ8+eSJdkGTt37pTNZtPkyZO1ZcsWXXXVVerSpYtsNpt27twpSXr11Vd1/fXXq1+/furQoYNSUlJ08cUXa+XKlfWes757dCZPniybzaYdO3boiSee0IABA5SYmKjevXtr7ty5qq6uDtm/oXt0au6F+f7773XXXXepZ8+eSkxM1LnnnqtXXnmlwc84fvx4de7cWR07dtTo0aP1zjvvaM6cObLZbCoqKmr0z8vr9eq8885T+/btlZaWpqlTp+rgwYP17vv5559r+vTpGjp0qLp06aKkpCSdeeaZmjFjhr7//vs6P7O1a9cG/3fNY/LkycF9lixZIrfbrYyMDCUlJalz587KysqSz+drdP0AAABtVYuP6HTv3l2lpaUh20pLS5WcnFzvaI4kJSYmKjExsaVLa9O2bdum888/XwMHDtTkyZP1zTffKCEhQVIgaCYkJOiiiy5Sjx49tH//fhmGoWuuuUZPPPGE7rjjjka/z+9//3utXbtW//Zv/6asrCy99tprmjNnjqqqqjRv3rxGnePo0aO64oordPDgQV199dX64YcftHz5cl177bUqKCjQFVdcEdx37969uuCCC/T111/rl7/8pYYMGaLi4mJdfvnluvTSS8P6GT333HOaNGmSkpOTNWHCBKWmpur1119XZmamqqqqgj+vGqtWrdLixYvldDrlcDhUXV2t999/X4888ojWrl2rd955J9jQNjc3V8uWLdOuXbtCphYOHjw4+L+nTZumQYMGKTMzU6eeeqr27t2r1157TZmZmVq1apXcbndYnwcAAKBJDEPy+SSnU3K5Il1N45knQZL56quvHnef6dOnm+ecc07Ituuvv97Myspq9PuUlZWZksyysrIG9zl8+LD52WefmYcPH270ea2ud+/e5k//infs2GFKMiWZs2fPrve4L774os62Q4cOmQMHDjRTUlLMioqKkNckmaNHjw7ZNmnSJFOS2adPH/Orr74Kbt+/f7+ZmppqdurUyaysrAxu9/l8piQzNze33s/gdrtD9l+zZo0pqc51dOONN5qSzHnz5oVsX7x4cfBz+3y+ej/3j5WVlZnJycnmKaecYhYXFwe3V1VVmZdccokpyezdu3fIMV9++WVIjTXmzp1rSjJfeOGFkO2jR4+u8/fzY9u3b6+z7auvvjJ79uxpnnHGGSf8DPxOAACAk+b1mqZkmnZ74NnrjXRFjcoGpmmaYU9d+/7777V582Zt3rxZUmD56M2bN2v37t2SAqMBEydODO5/6623avv27Zo+fbq2bt2qp556Si+//LKys7ObFMzQPLp376777ruv3tdOP/30Ots6duyoyZMnq6ysTB988EGj32fWrFnq0aNH8M9du3aV2+3WoUOHVFxc3OjzPP744yEjKJdddpl69+4dUktlZaX+8pe/qFu3brrnnntCjp8yZYr69+/f6Pd77bXXVF5ern//93/XmWeeGdweHx/f4EhUr1696ozySNLvfvc7SdKaNWsa/f6S1KdPnzrbevTooauvvlr/+te/tGvXrrDOBwAAEDafT7LbJb8/8BzGLQCRFnbQ+cc//qEhQ4ZoyJAhkqScnBwNGTJEs2fPliR9/fXXwdAjBb6srV69Wm+//bYGDRqkxx57TP/93/8d80tLG4aUnR14jkWDBg2q90u5JO3bt085OTk666yz1KFDh+D9IzXh4auvvmr0+wwbNqzOttNOO02S9N133zXqHKmpqfV+6T/ttNNCzlFcXKzKykoNHz68ztRHm82mCy64oNF1f/TRR5Kkiy++uM5ro0aNUrt2dWd9mqapJUuW6JJLLlHnzp1lt9tls9nUpUsXSeH93CRp+/btmjp1qvr27aukpKTg34PH42nS+QAAAMLmdNaGHL9fOsneia0p7Ht0HA7Hcft+LFu2rN5jPvzww3DfKmoZhuR2B/6+8/Mlrze2pitKqrMSXo1vv/1W5513nnbv3q0LL7xQmZmZSk1Nld1u1+bNm+X1ekOW/j6R5OTkOttqQoLf72/UOVJSUurd3q5du5BFDWqWIe/WrVu9+zf0metTVlbW4LnsdnswvPzYnXfeqSeffFLp6elyuVzq0aNHMHDNnTs3rJ/btm3bNGLECJWXl8vpdGrs2LFKTk5WXFycioqKtHbt2rDOBwAA0CQuV+DLblFRIOTE0JfeFl+MwIrqG8GLob9zSQ03GF28eLF2796tBx98UPfff3/Iaw8//LC8Xm9rlNckNaFq37599b7+00UxjqcmXNV3Lr/fr2+++Ua9evUKbtu3b58WLFigc889V+vXrw/pK1RSUhL2cumPP/64Dh48qOeff1433nhjyGu33nprcMU2AACAFudyxd6XXUXp8tLRLoZH8E7oiy++kKR6V/T629/+1trlhKV///5KTEzUxo0b64x2mKap9evXN/pcgwYNklT/Z16/fr2OHTsWsm379u0yTVOZmZl1mqc29HOz2+2S6h/ZaujvwTRNvffee438FAAAACfPKDaUXZAtozi27tkg6DRBzQjenXfG5rS14+ndu7ck6d133w3Z/uKLL+qNN96IREmNlpiYqGuuuUalpaXKz88Pee25557T1q1bG30ut9ut5ORkLVmyRJ9//nlw+9GjR+uMdEm1P7d169aFTKf78ssvNXPmzHrfo3PnzpJUb5+ohv4eHn74YX3yySeN/hwAAAAnwyg25F7ulmeDR+7l7pgKO0xda6IYHcE7oQkTJuiRRx7RHXfcIZ/Pp969e+ujjz5SYWGhfv3rX2vVqlWRLvG48vLytGbNGs2YMUNr164N9tF5/fXX9ctf/lIFBQWKiztxvk9JSdETTzyhyZMn67zzztN1112nlJQUvf7662rfvn3ISnJS7WpoK1eu1PDhw3XZZZeptLRUr7/+ui677LLgCM2PXXrppXrllVd09dVX61e/+pWSkpI0aNAgjR07VrfeequWLl2qq6++Wtdee626dOmi999/X5s2bdKYMWO0evXqZvuZAQAANMS3wye7zS6/6ZfdZlfRziK5+sfGl2BGdBDitNNO09q1a3XZZZdpzZo1euaZZ1RVVaW33npLY8eOjXR5J5Senq7169frN7/5jdatW6f8/Hzt27dPb731lvr16yep/gUS6jNp0iS9+uqrOuOMM/Tss8/q2Wef1YUXXqg1a9bUu2LdsmXLdM899+jgwYPyeDx6//33lZOToxdffLHe80+dOlXTp0/XgQMH9Mgjj2jWrFlauXKlJGnIkCF66623NHToUK1atUpLlixRamqq3nvvPQ0fPryJPx0AAIDwOPs4gyHHb/rlyHBEuqRGs5nHW0ItSpSXlyslJUVlZWUNfkk9cuSIduzYoT59+igpKamVK0QsuOiii7R+/XqVlZWpY8eOkS6nxfE7AQAAQhhGYFUtpzOsqUlGsaGinUVyZDiiYjSnMdlAYuoaLOjrr7+uM7XshRde0HvvvacrrriiTYQcAACAECfRH8XV3xUVASdcBB1YzjnnnKMhQ4bo7LPPDvb/KSoqUqdOnfToo49GujwAAIDWZ4X+KGHiHh1Yzq233qp9+/bpueee05NPPqni4mLdcMMN2rBhgwYOHBjp8gAAAFqflfujNIB7dACL4ncCAACEMIzASI7DEdOjOdyjAwAAAKCWVfujNICpawAAAEAbYBQbyi7IjqmmnyeDoAMAAABYnFFsyL3cLc8Gj9zL3W0i7BB0AAAAAIvz7fAFm37abXYV7SyKdEktjqADAAAAWJyzjzMYcvymX44MR6RLanEsRgAAAADEEsMI9MVxOsNq+um9zquinUVyZDhisgFouAg6AAAAQKwwDMntDvTDyc+XvN6wwk5bCDg1mLoGAAAAxAqfr7bpp90e6IuDehF0AAAAgFjhdNaGHL8/0PwT9SLooFU4HA7ZbLZIl9Eoy5Ytk81m07JlyyJdCgAAQCiXKzBd7c47w5q21hYRdCzCZrOF9Whuc+bMkc1mUxHDp5KkoqIi2Ww2zZkzJ9KlAAAAizH6S9lXmDL6R7qS6MZiBBaRm5tbZ1t+fr7Kysrqfa21Pffcc/rhhx8iXQYAAEBMq2n8abfZlf/3fHmv87apBQbCQdCxiPpGDpYtW6aysrKoGFX4+c9/HukSAAAAYl59jT8JOvVj6lobVFVVpfnz52vo0KE65ZRT1KlTJ1188cUyDKPOvmVlZZo9e7bOPvtsdezYUcnJyerXr58mTZqkXbt2SQrcfzN37lxJktPpDE6Py8jICJ6nvnt0fnwvzFtvvaULLrhAHTp0UJcuXTRp0iR988039db/zDPP6Be/+IWSkpKUnp6u6dOn68iRI7LZbHKEcUPet99+q1tvvVVpaWnq0KGDzjvvPL366qsN7r9kyRK53W5lZGQoKSlJnTt3VlZWlnw+X8h+c+bMkdPplCTNnTs3ZMrgzp07JUmff/65pk+frqFDh6pLly5KSkrSmWeeqRkzZuj7779v9GcAAABtS1ts/NlUjOi0MZWVlfrlL3+poqIiDR48WDfddJOOHj2q1atXy+12y+Px6He/+50kyTRNZWVl6e9//7suvPBC/fKXv1RcXJx27dolwzA0YcIE9e7dW5MnT5YkrV27VpMmTQoGnNTU1EbVZBiGVq9erbFjx+qCCy7QO++8o+eee05ffPGF3n333ZB9Z8+erQcffFBpaWmaOnWq4uPj9fLLL2vr1q1h/Rx++OEHORwOffzxxxo1apRGjx6tPXv2aPz48briiivqPWbatGkaNGiQMjMzdeqpp2rv3r167bXXlJmZqVWrVsntdksKhLqdO3fq2Wef1ejRo0PCV83PZNWqVVq8eLGcTqccDoeqq6v1/vvv65FHHtHatWv1zjvvKD4+PqzPBAAAYkgTmn5KbbPxZ5OZMaCsrMyUZJaVlTW4z+HDh83PPvvMPHz4cCtWFt169+5t/vSv+I9//KMpyZw1a5ZZXV0d3F5eXm4OHz7cTEhIMPfu3Wuapmn+85//NCWZ48aNq3PuI0eOmIcOHQr+OTc315Rk+ny+emsZPXp0nVqWLl1qSjLbtWtnvvvuu8Htx44dMx0OhynJXL9+fXB7cXGxabfbzV69epmlpaUhtZ999tmmJHP06NEn/sH8qN6pU6eGbC8oKDAlmZLMpUuXhry2ffv2Ouf56quvzJ49e5pnnHFGyHafz2dKMnNzc+t9/y+//NKsrKyss33u3LmmJPOFF15o1Oc4Hn4nAACIUl6vaUqmabcHnr3eSFcUUxqTDUzTNJm61kRGsaHsgmwZxXWne0Wr6upqPf300+rbt29wSlWNTp06afbs2aqqqtKqVatCjmvfvn2dcyUmJqpjx47NUtcNN9ygCy+8MPhnu92uSZMmSZI++OCD4PaXXnpJfr9f99xzj7p16xZS+/333x/Wez733HNKSEjQAw88ELI9KytLl112Wb3H9OnTp862Hj166Oqrr9a//vWv4FS+xujVq5cSEhLqbK8ZTVuzZk2jzwUAAGIMTT9bBVPXmiBWV7soLi7WwYMH1bNnz+A9NT+2f/9+SQpOAzvrrLN07rnn6qWXXtKXX36pcePGyeFwaPDgwYqLa76MPGzYsDrbTjvtNEnSd999F9z20UcfSZIuuuiiOvv/OCidSHl5uXbs2KGzzz5b3bt3r/P6xRdfrMLCwjrbt2/frry8PP31r3/V3r17VVlZGfL6V199pd69ezeqBtM0tXTpUi1btkyffPKJysrKVF1dHXIuAABgUU6nlJ9P088WRtBpglhd7eLbb7+VJH366af69NNPG9yvoqJCktSuXTv99a9/1Zw5c7Ry5Urdc889kqRTTz1Vv/vd73TffffJbrefdF3Jycl1trVrF7g0/X5/cFt5ebkkhYzm1EhLS2v0+x3vPA2da9u2bRoxYoTKy8vldDo1duxYJScnKy4uTkVFRVq7dm2d4HM8d955p5588kmlp6fL5XKpR48eSkxMlBRYwCCccwEAgBhT0/SzqCgQcmj62SIIOk3g7ONU/t/zY261i5pAcfXVV+uVV15p1DFdunSRx+PRE088oa1bt+qvf/2rPB6PcnNzFR8fr5kzZ7ZkySFq6t+3b1+dkZPS0tImnac+9Z3r8ccf18GDB/X888/rxhtvDHnt1ltv1dq1axv9/vv27dOCBQt07rnnav369erQoUPwtZKSknpH2wAAgMW4XAScFsY9Ok1Qs9rFnSPvjJlpa1JgKlpycrL+8Y9/6OjRo2Eda7PZdNZZZ2natGl6++23JSlkOeqakZ0fj8A0t0GDBkmS3nvvvTqvrVu3rtHnSU5OVp8+fbRt2zaVlJTUef1vf/tbnW1ffPGFJAVXVqthmma99Rzv57F9+3aZpqnMzMyQkNPQewMAAOuJxfu9Yw1Bp4lc/V2anzU/ZkKOFJgOdtttt2nXrl2699576w07n3zySXCkY+fOncG+Lz9WM+KRlJQU3Na5c2dJ0p49e1qg8oDrrrtOcXFxeuyxx3TgwIHg9oqKCs2bNy+sc02YMEFVVVWaPXt2yPa33nqr3vtzakaQfrrc9cMPP6xPPvmkzv7H+3nUnGvdunUh9+V8+eWXrTpCBgAAIqPmfm/PBo/cy92EnRbC1LU2Zu7cudq0aZOeeOIJrV69Wpdccom6deumvXv36uOPP9ZHH32k9evXq1u3btq8ebN+/etfa8SIEcEb92t6x8TFxSk7Ozt43ppGoX/84x/16aefKiUlRampqcFVxJpD//79NWPGDD300EMaOHCgrr32WrVr106rVq3SwIED9cknnzR6kYTp06dr1apVWrRokT799FNdcskl2rNnj15++WWNGTNGq1evDtn/1ltv1dKlS3X11Vfr2muvVZcuXfT+++9r06ZN9e4/YMAA9ezZU8uXL1diYqJOO+002Ww23XHHHcGV2lauXKnhw4frsssuU2lpqV5//XVddtllwdEjAABgTbF6v3esYUSnjUlMTNT//u//6plnnlH37t21cuVK5efn65133lGPHj309NNPa+DAgZKk4cOH6w9/+INsNptWr16txx57TEVFRcrMzNR7770n14/mlZ599tlaunSpunbtKo/Ho1mzZunRRx9t9vrnzZunp556Sj/72c+0cOFCvfzyy7rmmmv01FNPSap/YYP6nHLKKVq7dq1uueUW/etf/1J+fr62bt2qFStW6Jprrqmz/5AhQ/TWW29p6NChWrVqlZYsWaLU1FS99957Gj58eJ397Xa7Vq1apfPPP18vvfSSZs+erVmzZungwYOSpGXLlumee+7RwYMH5fF49P777ysnJ0cvvvjiSfx0AABALHD2cQZDTizd7x1rbKZpmpEu4kTKy8uVkpKisrKyBr/IHjlyRDt27FCfPn1CplShbVizZo0uv/xyTZ8+XY888kiky4kK/E4AANAKDCPQF8fpDGtxAaPYUNHOIjkyHIzmhKkx2UBi6hpizP79+9W5c+eQZa2/++674L0t48aNi1BlAACgzTEMye0O9MPJzw8sGd3IsOPq7yLgtDCCDmLK//zP/+jRRx/VpZdeqp49e+rrr79WQUGB9u3bp8mTJ2vUqFGRLhEAALQVPl9t00+7PdAXhyWjowZBBzHlggsu0LBhw7RmzRp9++23stvtOuusszRr1izdfvvtkS4PAAC0JU5nYCSnJuw4HJGuCD9C0EFMGTFihLxeb6TLAAAACIzeeL2BkRyHg9GcKEPQAQAAAJrK5SLgRCmWlwYAAACayCg2lF2QTdPPKETQAQAAAJrAKDbkXu6WZ4NH7uVuwk6UIegAAAAATeDb4Qs2/bTb7CraWRTpkvAjBB0AAACgCZx9nMGQ4zf9cmQ4Il0SfoTFCAAAAADDCPTFcTrDavrpvc6rop1FcmQ4aAAaZQg6AAAAaNsMQ3K7A/1w8vMDS0aHEXYIONGJqWsAAABo23y+2qafdnugLw5iHkEHAAAAbZvTWRty/P5A80/EPIIOWtzOnTtls9k0efLkkO0Oh0M2m63F3jcjI0MZGRktdn4AAGARLldgutqdd4Y1bQ3RjaBjMTWh4sePhIQEpaen64YbbtA///nPSJfYbCZPniybzaadO3dGuhQAABDrXC5p/nxCjoWwGIFF9e3bVzfeeKMk6fvvv9f777+vl156SatWrVJhYaEuvPDCCFcoPffcc/rhhx9a7PyFhYUtdm4AAGAtRrEh3w6fnH2cLC5gEQQdi+rXr5/mzJkTsu3+++/XvHnzdN9996koCm6y+/nPf96i5+/bt2+Lnh8AAFiDUWzIvdwtu82u/L/ny3udl7BjAUxda0PuuOMOSdIHH3wgSbLZbHI4HNq7d68mTpyo7t27Ky4uLiQEvfPOOxo7dqy6du2qxMREnXHGGbr//vvrHYnx+/165JFH1K9fPyUlJalfv37Ky8tTdXV1vfUc7x4dr9erK664Ql26dFFSUpIyMjI0YcIEffLJJ5IC9988++yzkqQ+ffoEp+k5fnTzYEP36FRUVCg3N1cDBgxQUlKSOnfurDFjxui9996rs++cOXNks9lUVFSkF198UYMHD1b79u3Vo0cP3XXXXTp8+HCdY1auXKnRo0erW7duSkpKUs+ePZWZmamVK1fW+1kBAEBk+Xb4gk0/7Ta7inYWRbokNANGdNqgH4eLb775RqNGjVLnzp113XXX6ciRI0pOTpYkPf3005o2bZpSU1M1duxYdevWTf/4xz80b948+Xw++Xw+JSQkBM91yy23aMmSJerTp4+mTZumI0eOaP78+Vq3bl1Y9d1zzz2aP3++OnfurHHjxqlbt27as2eP1qxZo2HDhumcc87R3XffrWXLlumjjz7SXXfdpdTUVEk64eIDR44c0aWXXqoNGzZo6NChuvvuu1VaWqoVK1bozTff1EsvvaTf/OY3dY578sknVVBQILfbrUsvvVQFBQV64okndODAAf3P//xPcL+nn35at99+u3r06KGrrrpKXbp0UUlJiTZs2KBXX31VV199dVg/CwAA0PKcfZzK/3t+MOw4MhyRLgnNwYwBZWVlpiSzrKyswX0OHz5sfvbZZ+bhw4dbsbLos2PHDlOSmZWVVee12bNnm5JMp9NpmqZpSjIlmVOmTDGPHTsWsu+nn35qtmvXzhw0aJB54MCBkNfy8vJMSeajjz4a3Obz+UxJ5qBBg8zvv/8+uP3LL780u3btakoyJ02aFHKe0aNHmz+9BP/v//2/piRz4MCBdd736NGjZklJSfDPkyZNMiWZO3bsqPdn0bt3b7N3794h2+bOnWtKMn/729+a1dXVwe2bNm0yExISzNTUVLO8vDy4PTc315RkpqSkmFu3bg1u/+GHH8wzzzzTjIuLM/fu3RvcPnToUDMhIcEsLS2tU89PP09L43cCANDmeL2meffdgedwD93qNbMLsk3v1vCPRetqTDYwTdNk6lpTGYaUnR14jkLbtm3TnDlzNGfOHP3+97/XJZdcogceeEBJSUmaN29ecL+EhAT96U9/kt1uDzn+mWee0bFjx+TxeNSlS5eQ16ZPn65TTz1VL730UnDbc889J0maPXu2TjnllOD2Xr166a677mp03U899ZQk6c9//nOd923Xrp3S0tIafa76PPvss4qPj9fDDz8cMrI1ZMgQTZo0Sd99951ee+21Osfddddd6t+/f/DP7du31/XXX6/q6mpt3LgxZN/4+HjFx8fXOcdPPw8AAGhGhiG53ZLHE3gO8zuaq79L87Pmc2+OhTB1rSlqfpHsdik/PyrXW//iiy80d+5cSYEv3mlpabrhhhs0Y8YMDRw4MLhfnz591LVr1zrHv//++5KkN998s97Vy+Lj47V169bgnz/66CNJ0sUXX1xn3/q2NWTDhg1KTEzU6NGjG31MY5WXl2v79u0666yzdNppp9V53el0atGiRdq8ebMmTJgQ8tqwYcPq7F9zju+++y647brrrtP06dN1zjnn6IYbbpDT6dRFF10UnA4IAABaiM9X2/DTbpeKiqLu+xlaF0GnKWLgFykrK0sFBQUn3K+hEZJvv/1WkkJGf46nrKxMcXFx9YamcEZhysrK1KtXL8XFNf9gY3l5+XHr6dGjR8h+P1ZfUGnXLvDr4/f7g9vuvfdedenSRU8//bQee+wxPfroo2rXrp3GjBmjxx9/XH369DnpzwEAAOrhdAb+A3TNd7QfLVCEtompa03hdNaGnBj/RWpo1bOaL/bl5eUyTbPBR42UlBRVV1frwIEDdc5VWlra6HpSU1NVUlLS4EptJ6PmMzVUT0lJSch+TWGz2fTv//7v+uCDD7R//369+uqr+vWvfy2v16t/+7d/CwlFAACgGblcgVk2d94ZlbNt0PoIOk3RBn6RRo4cKal2CtuJDBo0SJL0t7/9rc5r9W1ryIgRI1RZWam1a9eecN+a+4oaGx6Sk5N1+umna9u2bdq7d2+d12uW1R48eHCj6z2eLl26aNy4cVqxYoUuvfRSffbZZ9q2bVuznBsAANTD5ZLmz7fkdzOEr0lBZ8GCBcrIyFBSUpJGjhypDRs2NLjv0aNH9cADD6hv375KSkrSoEGDGjWlKupZ/Bfp9ttvV7t27XTHHXdo9+7ddV7/7rvv9OGHHwb/XHNPywMPPKCKiorg9r179+rPf/5zo9932rRpkgI3/9dMn6tx7NixkNGYzp07S5L27NnT6PNPmjRJR48e1cyZM0NGpP75z39q2bJlSklJ0bhx4xp9vp8qKioKOa8U+B2o+SxJSUlNPjcAADg+o9hQdkG2jOLoXCwKrSvse3RWrFihnJwcLVy4UCNHjlR+fr6ysrJUXFysbt261dn//vvv1wsvvKBFixZpwIABevPNN3XVVVdp3bp1GjJkSLN8CDS/c845R0899ZRuu+029e/fX1deeaX69u2rQ4cOafv27Vq7dq0mT56shQsXSgrcyD9lyhQtXbpUAwcO1FVXXaXKykqtWLFC559/vl5//fVGve+VV16pe++9V48++qjOOOMMXXXVVerWrZv27t2rwsJC3Xvvvbr77rslSZdeeqkeffRR3XLLLbr66qt1yimnqHfv3nUWEvix6dOna/Xq1Xr++ee1ZcsWXXbZZdq3b59WrFihY8eOadGiRerUqVOTf27jxo1TcnKyzj//fPXu3VtHjx7V22+/rc8++0zXXHONevfu3eRzAwCAhhnFhtzL3bLb7Mr/e76813lZQa2tC3fd6hEjRpjTpk0L/tnv95s9e/Y08/Ly6t2/R48e5pNPPhmy7de//rX529/+tsH3OHLkiFlWVhZ87Nmzhz46jXS8Pjo/JckcPXr0cffZsGGDed1115k9e/Y04+Pjza5du5pDhw41Z8yYYW7ZsiVk32PHjpl5eXnm6aefbiYkJJinn366+dBDD5nbtm1rdB+dGitXrjSdTqeZkpJiJiYmmhkZGeaECRPMTz75JGS/P/3pT+YZZ5xhxsfH1/k89fXRMU3T/P77781Zs2aZZ555ZrB3zq9+9Svzb3/7W519a/ro+Hy+Oq8tXbrUlGQuXbo0uO2pp54yXS6X2bt3bzMpKcns0qWLOWLECPPpp582q6qq6v2sLYXfCQBAW3L3/95t2ufaTc2RaZ9rN7MLsiNdElpIY/vo2EzzJ/NsjqOqqkodOnTQK6+8EjK9p6b/iNfrrXNMly5d9Kc//Uk33XRTcNuNN96od999Vzt37qz3febMmRNcGvnHysrKGrxR/MiRI9qxY4f69OnD9CBA/E4AANqWH4/o+E0/IzoWVl5erpSUlONmAynMe3QOHDggv99fZ3netLS04IpVP5WVlaX58+frX//6l6qrq/X2229r1apV+vrrrxt8n5kzZ6qsrCz4COceDAAAAMS4JjRmd/V3yXudV3eOvJOQA0mt0Efnz3/+s6ZOnaoBAwbIZrOpb9++mjJlipYsWdLgMYmJiUpMTGzp0gAAABBtTqIxu6u/i4CDoLBGdLp27Sq73V6nD0lpaam6d+9e7zGnnnqqXnvtNVVUVGjXrl3aunWrOnbsqNNPP73pVQMAAMCa6mvMDjRBWEEnISFBw4YNU2FhYXBbdXW1CgsLNWrUqOMem5SUpF69eunYsWNauXKl3G530yoGAACAdVmoMTsiK+ypazk5OZo0aZKGDx+uESNGKD8/XxUVFZoyZYokaeLEierVq5fy8vIkSX//+9+1d+9eDR48WHv37tWcOXNUXV2t6dOnN+8nAQAAQOyracxeVBQIORbtWYiWF3bQGT9+vPbv36/Zs2erpKREgwcPVkFBQXCBgt27dysurnag6MiRI7r//vu1fft2dezYUVdeeaWef/55paamNtuHAAAAgIW4XAQcnLSwlpeOlMYsIVezlG5GRobat2/fyhUC0efw4cPauXMny0sDAGKOUWzIt8MnZx8niwugjhZZXjqa2e12SdLRo0cjXAkQHY4dOyZJateuxRdXBACg2dT0w/Fs8Mi93C2juPFLTAM/ZpmgEx8fr8TERJWVlSkGBqmAFldeXi673R78jwAAAMQC3w5fsOmn3WZX0c6iSJeEGGWp/9TbtWtX7d27V19++aVSUlIUHx8vm80W6bKAVmWapioqKlReXq4ePXrwOwAAiCnOPk7l/z0/GHYcGY5Il4QYZamgUzNH78CBA9q7d2+EqwEix2azKTU1VSkpKZEuBQDQVhlGoCeO0xnWwgKu/i55r/OqaGeRHBkO7tFBk1lmMYKfOnr0qPx+fwtXBkSn+Ph4pqwBACLHMCS3u7YXjtfLKmpoNo3NBpYa0fmx+Ph4xcfHR7oMAACAtsfnqw05dnugJw5BB63MMosRAAAAIEo4nbUhx+8PNP4EWpllR3QAAAAQIS5XYLpaUVEg5DCagwgg6AAAAKD5uVwEHEQUU9cAAADQ7IxiQ9kF2TT8RMQQdAAAANCsjGJD7uVueTZ45F7uJuwgIgg6AAAAaFa+Hb5gw0+7za6inUWRLgltEEEHAAAAzcrZxxkMOX7TL0eGI9IloQ1iMQIAAAA0zDACfXGczkYvLuDq75L3Oq+KdhbJkeGQqz+LEqD12UzTNCNdxIk0tvspAAAAmpFhSG53bT8cr5eV1BBxjc0GTF0DAABA/Xy+2pBjtwf64gAxgqADAACA+jmdtSHH7w80/wRiBPfoAAAAoH4uV2C6WlFRIOQwbQ0xhKADAACAhrlcBBzEJKauAQAAoEFGsaHsgmyafiLmEHQAAABQL6PYkHu5W54NHrmXuwk7iCkEHQAAANTLt8MXbPppt9lVtLMo0iUBjUbQAQAAQL2cfZzBkOM3/XJkOCJdEtBoLEYAAACAern6u+S9zquinUVyZDjk6s+iBIgdNtM0zUgXcSKN7X4KAAAAwNoamw2YugYAAADAcgg6AAAAACyHoAMAAADAcgg6AAAAbYBhSNnZgWegLSDoAAAAWJxhSG635PEEngk7aAsIOgAAABbn80l2u+T3B56LiiJdEdDyCDoAAAAW53TWhhy/X3I4Il0R0PJoGAoAAGBxLpfk9QZGchyOwJ8BqyPoAAAAtAEuFwEHbQtT1wAAAABYDkEHAAAAgOUQdAAAAABYDkEHAAAAgOUQdAAAAGKEYUjZ2TT8BBqDoAMAABADDENyuyWPJ/BM2AGOj6ADAAAQA3y+2oafdnugJw6AhhF0AAAAYoDTWRty/P5A408ADaNhKAAAQAxwuSSvNzCS43DQ/BM4EYIOAABAjHC5CDhAYzF1DQAAAIDlEHQAAAAAWA5BBwAAAIDlEHQAAAAAWA5BBwAAoJUZhpSdTdNPoCURdAAAAFqRYUhut+TxBJ4JO0DLIOgAAAC0Ip+vtumn3R7oiwOg+RF0AAAAWpHTWRty/P5A808AzY+GoQAAAK3I5ZK83sBIjsNBA1CgpRB0AAAAWpnLRcABWhpT1wAAAABYDkEHAAAAgOUQdAAAAABYDkEHAAAAgOUQdAAAAJrIMKTsbJp+AtGoSUFnwYIFysjIUFJSkkaOHKkNGzYcd//8/Hz1799f7du3V3p6urKzs3XkyJEmFQwAABANDENyuyWPJ/BM2AGiS9hBZ8WKFcrJyVFubq42bdqkQYMGKSsrS/v27at3/xdffFEzZsxQbm6utmzZosWLF2vFihX64x//eNLFAwAARIrPV9v0024P9MUBED3CDjrz58/X1KlTNWXKFJ199tlauHChOnTooCVLltS7/7p163ThhRfqhhtuUEZGhq644gpdf/31JxwFAgAAiGZOZ23I8fsDzT8BRI+wgk5VVZU2btyozMzM2hPExSkzM1Pr16+v95gLLrhAGzduDAab7du364033tCVV17Z4PtUVlaqvLw85AEAABBNXC7J65XuvDPwTANQILq0C2fnAwcOyO/3Ky0tLWR7Wlqatm7dWu8xN9xwgw4cOKCLLrpIpmnq2LFjuvXWW487dS0vL09z584NpzQAAIBW53IRcIBo1eKrrhUVFemhhx7SU089pU2bNmnVqlVavXq1HnzwwQaPmTlzpsrKyoKPPXv2tHSZAAAAACwkrBGdrl27ym63q7S0NGR7aWmpunfvXu8xs2bN0oQJE3TzzTdLkgYOHKiKigrdcsstuu+++xQXVzdrJSYmKjExMZzSAAAAACAorBGdhIQEDRs2TIWFhcFt1dXVKiws1KhRo+o95ocffqgTZux2uyTJNM1w6wUAAACAEwprREeScnJyNGnSJA0fPlwjRoxQfn6+KioqNGXKFEnSxIkT1atXL+Xl5UmSxo4dq/nz52vIkCEaOXKktm3bplmzZmns2LHBwAMAAAAAzSnsoDN+/Hjt379fs2fPVklJiQYPHqyCgoLgAgW7d+8OGcG5//77ZbPZdP/992vv3r069dRTNXbsWM2bN6/5PgUAAEATGUagJ47TycICgJXYzBiYP1ZeXq6UlBSVlZUpOTk50uUAAACLMAzJ7a7thcMy0UD0a2w2aPFV1wAAAKKVz1cbcux2qago0hUBaC4EHQAA0GY5nbUhx++XHI5IVwSguYR9jw4AAIBVuFyB6WpFRYGQw7Q1wDoIOgAAoE1zuQg4gBUxdQ0AAACA5RB0AAAAAFgOQQcAAACA5RB0AAAAAFgOQQcAAFiCYUjZ2YFnACDoAACAmGcYktsteTyBZ8IOAIIOAACIeT5fbdNPuz3QFwdA20bQAQAAMc/prA05fn+g+SeAto2GoQAAIOa5XJLXGxjJcThoAAqAoAMAACzC5SLgAKjF1DUAAAAAlkPQAQAAAGA5BB0AAAAAlkPQAQAAAGA5BB0AABA1DEPKzqbhJ4CTR9ABAABRwTAkt1vyeALPhB0AJ4OgAwAAooLPV9vw024P9MQBgKYi6AAAgKjgdNaGHL8/0PgTAJqKhqEAACAquFyS1xsYyXE4aP4J4OQQdAAAQNRwuQg4AJoHU9cAAAAAWA5BBwAAAIDlEHQAAAAAWA5BBwAAAIDlEHQAAECzMwwpO5umnwAih6ADAACalWFIbrfk8QSeCTsAIoGgAwAAmpXPV9v0024P9MUBgNZG0AEAAM3K6awNOX5/oPknALQ2GoYCAIBm5XJJXm9gJMfhoAEogMgg6AAAgGbnchFwAEQWU9cAAAAAWA5BBwAAAIDlEHQAAAAAWA5BBwAAAIDlEHQAAECDDEPKzqbpJ4DYQ9ABAAD1MgzJ7ZY8nsAzYQdALCHoAACAevl8tU0/7fZAXxwAiBUEHQAAUC+nszbk+P2B5p8AECtoGAoAAOrlckleb2Akx+GgASiA2ELQAQAADXK5CDgAYhNT1wAAAABYDkEHAAAAgOUQdAAAAABYDkEHAACLo+kngLaIoAMAgIXR9BNAW0XQAQDAwmj6CaCtIugAAGBhNP0E0FbRRwcAAAuj6SeAtoqgAwCAxdH0E0BbxNQ1AAAAAJZD0AEAAABgOQQdAAAAAJZD0AEAAABgOQQdAABihGFI2dk0/QSAxiDoAAAQAwxDcrsljyfwTNgBgOMj6AAAEAN8vtqmn3Z7oC8OAKBhTQo6CxYsUEZGhpKSkjRy5Eht2LChwX0dDodsNludx5gxY5pcNAAAbY3TWRty/P5A808AQMPCbhi6YsUK5eTkaOHChRo5cqTy8/OVlZWl4uJidevWrc7+q1atUlVVVfDP33zzjQYNGqTf/OY3J1c5AABtiMsleb2BkRyHgwagAHAiNtM0zXAOGDlypM477zw9+eSTkqTq6mqlp6frjjvu0IwZM054fH5+vmbPnq2vv/5ap5xySqPes7y8XCkpKSorK1NycnI45QIAAACwkMZmg7CmrlVVVWnjxo3KzMysPUFcnDIzM7V+/fpGnWPx4sW67rrrjhtyKisrVV5eHvIAAAAAgMYKK+gcOHBAfr9faWlpIdvT0tJUUlJywuM3bNigTz75RDfffPNx98vLy1NKSkrwkZ6eHk6ZAAAAANq4Vl11bfHixRo4cKBGjBhx3P1mzpypsrKy4GPPnj2tVCEAAAAAKwhrMYKuXbvKbrertLQ0ZHtpaam6d+9+3GMrKiq0fPlyPfDAAyd8n8TERCUmJoZTGgAAAAAEhTWik5CQoGHDhqmwsDC4rbq6WoWFhRo1atRxj/3LX/6iyspK3XjjjU2rFAAAizAMKTubpp8A0JLCnrqWk5OjRYsW6dlnn9WWLVt02223qaKiQlOmTJEkTZw4UTNnzqxz3OLFizVu3Dh16dLl5KsGACBGGYbkdkseT+CZsAMALSPsPjrjx4/X/v37NXv2bJWUlGjw4MEqKCgILlCwe/duxcWF5qfi4mK9++67euutt5qnagAAYpTPV9v0024P9MWhJw4ANL+w++hEAn10AABWUTOiUxN2vF6CDgCEo7HZIOwRHQAA0HQuVyDcFBVJDgchBwBaCkEHAIBW5nIRcACgpbVqHx0AAAAAaA0EHQAAAACWQ9ABAAAAYDkEHQAAAACWQ9ABAKAJDEPKzqbhJwBEK4IOAABhqumF4/EEngk7ABB9CDoAAITJ56tt+Gm3B3riAACiC0EHAIAwOZ21IcfvDzT+BABEFxqGAgAQJpdL8noDIzkOB80/ASAaEXQAAGgCl4uAAwDRjKlrAAAAACyHoAMAAADAcgg6AAAAACyHoAMAAADAcgg6AIA2zTCk7GyafgKA1RB0AABtlmFIbrfk8QSeCTsAYB0EHQBAm+Xz1Tb9tNsDfXEAANZA0AEAtFlOZ23I8fsDzT8BANZAw1AAQJvlckleb2Akx+GgASgAWAlBBwDQprlcBBwAsCKmrgEAAACwHIIOAAAAAMsh6AAAAACwHIIOAAAAAMsh6AAAYp5hSNnZNPwEANQi6AAAYpphSG635PEEngk7AACJoAMAiHE+X23DT7s90BMHAACCDgAgpjmdtSHH7w80/gQAgIahAICY5nJJXm9gJMfhoPknACCAoAMAiHkuFwEHABCKqWsAAAAALIegAwAAAMByCDoAAAAALIegAwAAAMByCDoAgKhhGFJ2Nk0/AQAnj6ADAIgKhiG53ZLHE3gm7AAATgZBBwAQFXy+2qafdnugLw4AAE1F0AEARAWnszbk+P2B5p8AADQVDUMBAFHB5ZK83sBIjsNBA1AAwMkh6AAAoobLRcABADQPpq4BAAAAsByCDgAAAADLIegAAAAAsByCDgAAAADLIegAAJqdYUjZ2TT9BABEDkEHANCsDENyuyWPJ/BM2AEARAJBBwDQrHy+2qafdnugLw4AAK2NoAMAaFZOZ23I8fsDzT8BAGhtNAwFADQrl0vyegMjOQ4HDUABAJFB0AEANDuXi4ADAIgspq4BAAAAsByCDgAAAADLIegAAAAAsByCDgCgXjT9BADEMoIOAKAOmn4CAGIdQQcAUAdNPwEAsY6gAwCog6afAIBY16Sgs2DBAmVkZCgpKUkjR47Uhg0bjrv/d999p2nTpqlHjx5KTEzUmWeeqTfeeKNJBQMAWl5N08877ww80xMHABBrwm4YumLFCuXk5GjhwoUaOXKk8vPzlZWVpeLiYnXr1q3O/lVVVbr88svVrVs3vfLKK+rVq5d27dql1NTU5qgfANBCaPoJAIhlNtM0zXAOGDlypM477zw9+eSTkqTq6mqlp6frjjvu0IwZM+rsv3DhQv3nf/6ntm7dqvj4+CYVWV5erpSUFJWVlSk5OblJ5wAAAAAQ+xqbDcKaulZVVaWNGzcqMzOz9gRxccrMzNT69evrPcYwDI0aNUrTpk1TWlqazjnnHD300EPy+/0Nvk9lZaXKy8tDHgAAAADQWGEFnQMHDsjv9ystLS1ke1pamkpKSuo9Zvv27XrllVfk9/v1xhtvaNasWXrsscf0H//xHw2+T15enlJSUoKP9PT0cMoEAAAA0Ma1+Kpr1dXV6tatm/7rv/5Lw4YN0/jx43Xfffdp4cKFDR4zc+ZMlZWVBR979uxp6TIBAAAAWEhYixF07dpVdrtdpaWlIdtLS0vVvXv3eo/p0aOH4uPjZbfbg9vOOusslZSUqKqqSgkJCXWOSUxMVGJiYjilAQAaYBiBvjhOJ4sLAADajrBGdBISEjRs2DAVFhYGt1VXV6uwsFCjRo2q95gLL7xQ27ZtU3V1dXDb559/rh49etQbcgAAzccwJLdb8ngCz4YR6YoAAGgdYU9dy8nJ0aJFi/Tss89qy5Ytuu2221RRUaEpU6ZIkiZOnKiZM2cG97/tttv07bff6q677tLnn3+u1atX66GHHtK0adOa71MAAOrl89U2/bTbpaKiSFcEAEDrCLuPzvjx47V//37Nnj1bJSUlGjx4sAoKCoILFOzevVtxcbX5KT09XW+++aays7N17rnnqlevXrrrrrv0hz/8ofk+BQCgXk6nlJ9fG3YcjkhXBABA6wi7j04k0EcHAJrOMAIjOQ4H9+gAAGJfY7NB2CM6AIDY4nIRcAAAbU+LLy8NAAAAAK2NoAMAAADAcgg6AAAAACyHoAMAAADAcgg6ABAjDEPKzqbpJwAAjUHQAYAYYBiS2y15PIFnwg4AAMdH0AGAGODz1Tb9tNsDfXEAAEDDCDoAEAOcztqQ4/cHmn8CAICG0TAUAGKAyyV5vYGRHIeDBqAAAJwIQQcAYoTLRcABAKCxmLoGAAAAwHIIOgAAAAAsh6ADAAAAwHIIOgAAAAAsh6ADAK3IMKTsbBp+AgDQ0gg6ANBKDENyuyWPJ/BM2AEAoOUQdACglfh8tQ0/7fZATxwAANAyCDoA0EqcztqQ4/cHGn8CAICWQcNQAGglLpfk9QZGchwOmn8CANCSCDoA0IpcLgIOAACtgalrAAAAACyHoAMAAADAcgg6AAAAACyHoAMAAADAcgg6ANAEhiFlZ9P0EwCAaEXQAYAwGYbkdkseT+CZsAMAQPQh6ABAmHy+2qafdnugLw4AAIguBB0ACJPTWRty/P5A808AABBdaBgKAGFyuSSvNzCS43DQABQAgGhE0AGAJnC5CDgAAEQzpq4BAAAAsByCDgAAAADLIegAAAAAsByCDgAAAADLIegAaLMMQ8rOpuEnAABWRNAB0CYZhuR2Sx5P4JmwAwCAtRB0ALRJPl9tw0+7PdATBwAAWAdBB0Cb5HTWhhy/P9D4EwAAWAcNQwG0SS6X5PUGRnIcDpp/AgBgNQQdAG2Wy0XAAQDAqpi6BgAAAMByCDoAAAAALIegAwAAAMByCDoAAAAALIegAyDmGYaUnU3TTwAAUIugAyCmGYbkdkseT+CZsAMAACSCDoAY5/PVNv202wN9cQAAAAg6AGKa01kbcvz+QPNPAAAAGoYCiGkul+T1BkZyHA4agAIAgACCDoCY53IRcAAAQCimrgEAAACwHIIOAAAAAMsh6AAAAACwHIIOAAAAAMsh6ACIGoYhZWfT9BMAAJw8gg6AqGAYktsteTyBZ8IOAAA4GQQdAFHB56tt+mm3B/riAAAANBVBB0BUcDprQ47fH2j+CQAA0FQ0DAUQFVwuyesNjOQ4HDQABQAAJ6dJIzoLFixQRkaGkpKSNHLkSG3YsKHBfZctWyabzRbySEpKanLBAKzL5ZLmzyfkAACAkxd20FmxYoVycnKUm5urTZs2adCgQcrKytK+ffsaPCY5OVlff/118LFr166TKhoAAAAAjifsoDN//nxNnTpVU6ZM0dlnn62FCxeqQ4cOWrJkSYPH2Gw2de/ePfhIS0s7qaIBAAAA4HjCCjpVVVXauHGjMjMza08QF6fMzEytX7++weO+//579e7dW+np6XK73fr000+P+z6VlZUqLy8PeQAAAABAY4UVdA4cOCC/319nRCYtLU0lJSX1HtO/f38tWbJEXq9XL7zwgqqrq3XBBRfoyy+/bPB98vLylJKSEnykp6eHUyaACKLpJwAAiAYtvrz0qFGjNHHiRA0ePFijR4/WqlWrdOqpp+qZZ55p8JiZM2eqrKws+NizZ09LlwmgGdD0EwAARIuwgk7Xrl1lt9tVWloasr20tFTdu3dv1Dni4+M1ZMgQbdu2rcF9EhMTlZycHPIAEP1o+gkAAKJFWEEnISFBw4YNU2FhYXBbdXW1CgsLNWrUqEadw+/36+OPP1aPHj3CqxRA1KPpJwAAiBZhNwzNycnRpEmTNHz4cI0YMUL5+fmqqKjQlClTJEkTJ05Ur169lJeXJ0l64IEHdP7556tfv3767rvv9J//+Z/atWuXbr755ub9JAAijqafAAAgWoQddMaPH6/9+/dr9uzZKikp0eDBg1VQUBBcoGD37t2Ki6sdKDp48KCmTp2qkpIS/exnP9OwYcO0bt06nX322c33KQBEDZeLgAMAACLPZpqmGekiTqS8vFwpKSkqKyvjfh0AAACgDWtsNmjxVdcAAAAAoLURdAAAAABYDkEHAAAAgOUQdADUyzCk7GyafgIAgNhE0AFQh2FIbrfk8QSeCTsAACDWEHQA1OHz1Tb9tNsDfXEAAABiCUEHQB1OZ23I8fsDzT8BAABiSdgNQwFYn8sleb2BkRyHgwagAAAg9hB0ANTL5SLgAACA2MXUNQAAAACWQ9ABAAAAYDkEHQAAAACWQ9ABAAAAYDkEHcDCDEPKzqbhJwAAaHsIOoBFGYbkdkseT+CZsAMAANoSgg5gUT5fbcNPuz3QEwcAAKCtIOgAFuV01oYcvz/Q+BMAAKCtoGEoYFEul+T1BkZyHA6afwIAgLaFoANYmMtFwAEAAG0TU9cAAAAAWA5BBwAAAIDlEHQAAAAAWA5BBwAAAIDlEHSAGGAYUnY2TT8BAAAai6ADRDnDkNxuyeMJPBN2AAAAToygA0Q5n6+26afdHuiLAwAAgOMj6ABRzumsDTl+f6D5JwAAAI6PhqFAlHO5JK83MJLjcNAAFAAAoDEIOkAMcLkIOAAAAOFg6hoAAAAAyyHoAAAAALAcgg4AAAAAyyHoAAAAALAcgg7QigxDys6m6ScAAEBLI+gArcQwJLdb8ngCz4QdAACAlkPQAVqJz1fb9NNuD/TFAQAAQMsg6ACtxOmsDTl+f6D5JwAAAFoGDUOBVuJySV5vYCTH4aABKAAAQEsi6ACtyOUi4AAAALQGpq4BAAAAsByCDgAAAADLIegAAAAAsByCDgAAAADLIegAYTIMKTubhp8AAADRjKADhMEwJLdb8ngCz4QdAACA6ETQAcLg89U2/LTbAz1xAAAAEH0IOkAYnM7akOP3Bxp/AgAAIPrQMBQIg8sleb2BkRyHg+afAAAA0YqgA4TJ5SLgAAAARDumrgEAAACwHIIOAAAAAMsh6AAAAACwHIIOAAAAAMsh6KDNMgwpO5umnwAAAFZE0EGbZBiS2y15PIFnwg4AAIC1EHTQJvl8tU0/7fZAXxwAAABYB0EHbZLTWRty/P5A808AAABYBw1D0Sa5XJLXGxjJcThoAAoAAGA1BB20WS4XAQcAAMCqmjR1bcGCBcrIyFBSUpJGjhypDRs2NOq45cuXy2azady4cU15WwAAAABolLCDzooVK5STk6Pc3Fxt2rRJgwYNUlZWlvbt23fc43bu3Kl7771XF198cZOLBQAAAIDGCDvozJ8/X1OnTtWUKVN09tlna+HCherQoYOWLFnS4DF+v1+//e1vNXfuXJ1++uknVTAAAAAAnEhYQaeqqkobN25UZmZm7Qni4pSZman169c3eNwDDzygbt266aabbmrU+1RWVqq8vDzkAQAAAACNFVbQOXDggPx+v9LS0kK2p6WlqaSkpN5j3n33XS1evFiLFi1q9Pvk5eUpJSUl+EhPTw+nTLQxhiFlZ9P0EwAAALVatI/OoUOHNGHCBC1atEhdu3Zt9HEzZ85UWVlZ8LFnz54WrBKxzDAkt1vyeALPhB0AAABIYS4v3bVrV9ntdpWWloZsLy0tVffu3evs/8UXX2jnzp0aO3ZscFt1dXXgjdu1U3Fxsfr27VvnuMTERCUmJoZTGtoon6+26afdHuiLw5LRAAAACGtEJyEhQcOGDVNhYWFwW3V1tQoLCzVq1Kg6+w8YMEAff/yxNm/eHHy4XC45nU5t3ryZKWk4aU5nbcjx+wPNPwEAAICwG4bm5ORo0qRJGj58uEaMGKH8/HxVVFRoypQpkqSJEyeqV69eysvLU1JSks4555yQ41NTUyWpznagKVwuyesNjOQ4HIzmAAAAICDsoDN+/Hjt379fs2fPVklJiQYPHqyCgoLgAgW7d+9WXFyL3voDhHC5CDgAAAAIZTNN04x0ESdSXl6ulJQUlZWVKTk5OdLlAAAAAIiQxmYDhl4AAAAAWA5BBwAAAIDlEHQAAAAAWA5BB1HBMKTsbBp+AgAAoHkQdBBxhiG53ZLHE3gm7AAAAOBkEXQQcT5fbcNPuz3QEwcAAAA4GQQdRJzTWRty/P5A408AAADgZITdMBRobi6X5PUGRnIcDpp/AgAA4OQRdBAVXC4CDgAAAJoPU9cAAAAAWA5BBwAAAIDlEHQAAAAAWA5BB82Kxp8AAACIBgQdNBsafwIAACBaEHTQbGj8CQAAgGhB0EGzofEnAAAAogV9dNBsaPwJAACAaEHQQbOi8ScAAACiAVPXAAAAAFgOQQcAAACA5RB0AAAAAFgOQQcAAACA5RB0UIdhSNnZNPwEAABA7CLoIIRhSG635PEEngk7AAAAiEUEHYTw+WobftrtgZ44AAAAQKwh6CCE01kbcvz+QONPAAAAINbQMBQhXC7J6w2M5DgcNP8EAABAbCLooA6Xi4ADAACA2MbUNQAAAACWQ9ABAAAAYDkEHQAAAACWQ9ABAAAAYDkEHQszDCk7m6afAAAAaHsIOhZlGJLbLXk8gWfCDgAAANoSgo5F+Xy1TT/t9kBfHAAAAKCtIOhYlNNZG3L8/kDzTwAAAKCtoGGoRblcktcbGMlxOGgACgAAgLaFoGNhLhcBBwAAAG0TU9cAAAAAWA5BBwAAAIDlEHQAAAAAWA5BBwAAAIDlEHRigGFI2dk0/QQAAAAai6AT5QxDcrsljyfwTNgBAAAAToygE+V8vtqmn3Z7oC8OAAAAgOMj6EQ5p7M25Pj9geafAAAAAI6PhqFRzuWSvN7ASI7DQQNQAAAAoDEIOjHA5SLgAAAAAOFg6hoAAAAAyyHoAAAAALAcgg4AAAAAyyHoAAAAALAcgk4rMQwpO5uGnwAAAEBrIOi0AsOQ3G7J4wk8E3YAAACAlkXQaQU+X23DT7s90BMHAAAAQMsh6LQCp7M25Pj9gcafAAAAAFoODUNbgcsleb2BkRyHg+afAAAAQEsj6LQSl4uAAwAAALQWpq4BAAAAsByCDgAAAADLaVLQWbBggTIyMpSUlKSRI0dqw4YNDe67atUqDR8+XKmpqTrllFM0ePBgPf/8800uGAAAAABOJOygs2LFCuXk5Cg3N1ebNm3SoEGDlJWVpX379tW7f+fOnXXfffdp/fr1+uc//6kpU6ZoypQpevPNN0+6eAAAAACoj800TTOcA0aOHKnzzjtPTz75pCSpurpa6enpuuOOOzRjxoxGnWPo0KEaM2aMHnzwwUbtX15erpSUFJWVlSk5OTmccpudYQT64jidLC4AAAAAtLbGZoOwRnSqqqq0ceNGZWZm1p4gLk6ZmZlav379CY83TVOFhYUqLi7WJZdc0uB+lZWVKi8vD3lEA8OQ3G7J4wk8G0akKwIAAABQn7CCzoEDB+T3+5WWlhayPS0tTSUlJQ0eV1ZWpo4dOyohIUFjxoyRx+PR5Zdf3uD+eXl5SklJCT7S09PDKbPF+Hy1TT/t9kBfHAAAAADRp1VWXevUqZM2b96sDz74QPPmzVNOTo6KjpMSZs6cqbKysuBjz549rVHmCTmdtSHH7w80/wQAAAAQfcJqGNq1a1fZ7XaVlpaGbC8tLVX37t0bPC4uLk79+vWTJA0ePFhbtmxRXl6eHA0khcTERCUmJoZTWqtwuSSvNzCS43Bwjw4AAAAQrcIa0UlISNCwYcNUWFgY3FZdXa3CwkKNGjWq0eeprq5WZWVlOG8dNVwuaf58Qg4AAAAQzcIa0ZGknJwcTZo0ScOHD9eIESOUn5+viooKTZkyRZI0ceJE9erVS3l5eZIC99sMHz5cffv2VWVlpd544w09//zzevrpp5v3kwAAAADA/xd20Bk/frz279+v2bNnq6SkRIMHD1ZBQUFwgYLdu3crLq52oKiiokK33367vvzyS7Vv314DBgzQCy+8oPHjxzffpwAAAACAHwm7j04kRFMfHQAAAACR0yJ9dAAAAAAgFhB0AAAAAFgOQQcAAACA5RB0AAAAAFgOQQcAAACA5RB0AAAAAFgOQQcAAACA5RB0AAAAAFgOQQcAAACA5RB0AAAAAFgOQQcAAACA5RB0AAAAAFgOQQcAAACA5RB0AAAAAFgOQQcAAACA5RB0AAAAAFhOu0gX0BimaUqSysvLI1wJAAAAgEiqyQQ1GaEhMRF0Dh06JElKT0+PcCUAAAAAosGhQ4eUkpLS4Os280RRKApUV1frq6++UqdOnWSz2SJaS3l5udLT07Vnzx4lJydHtBbEHq4fnAyuHzQV1w5OBtcPTkZLXD+maerQoUPq2bOn4uIavhMnJkZ04uLidNppp0W6jBDJycn8sqPJuH5wMrh+0FRcOzgZXD84Gc19/RxvJKcGixEAAAAAsByCDgAAAADLIeiEKTExUbm5uUpMTIx0KYhBXD84GVw/aCquHZwMrh+cjEhePzGxGAEAAAAAhIMRHQAAAACWQ9ABAAAAYDkEHQAAAACWQ9ABAAAAYDkEHQAAAACWQ9Cpx4IFC5SRkaGkpCSNHDlSGzZsOO7+f/nLXzRgwAAlJSVp4MCBeuONN1qpUkSjcK6fRYsW6eKLL9bPfvYz/exnP1NmZuYJrzdYV7j/9tRYvny5bDabxo0b17IFIqqFe/189913mjZtmnr06KHExESdeeaZ/P9XGxbu9ZOfn6/+/furffv2Sk9PV3Z2to4cOdJK1SJavPPOOxo7dqx69uwpm82m11577YTHFBUVaejQoUpMTFS/fv20bNmyFquPoPMTK1asUE5OjnJzc7Vp0yYNGjRIWVlZ2rdvX737r1u3Ttdff71uuukmffjhhxo3bpzGjRunTz75pJUrRzQI9/opKirS9ddfL5/Pp/Xr1ys9PV1XXHGF9u7d28qVI9LCvXZq7Ny5U/fee68uvvjiVqoU0Sjc66eqqkqXX365du7cqVdeeUXFxcVatGiRevXq1cqVIxqEe/28+OKLmjFjhnJzc7VlyxYtXrxYK1as0B//+MdWrhyRVlFRoUGDBmnBggWN2n/Hjh0aM2aMnE6nNm/erLvvvls333yz3nzzzZYp0ESIESNGmNOmTQv+2e/3mz179jTz8vLq3f/aa681x4wZE7Jt5MiR5v/5P/+nRetEdAr3+vmpY8eOmZ06dTKfffbZlioRUaop186xY8fMCy64wPzv//5vc9KkSabb7W6FShGNwr1+nn76afP00083q6qqWqtERLFwr59p06aZl156aci2nJwc88ILL2zROhHdJJmvvvrqcfeZPn26+Ytf/CJk2/jx482srKwWqYkRnR+pqqrSxo0blZmZGdwWFxenzMxMrV+/vt5j1q9fH7K/JGVlZTW4P6yrKdfPT/3www86evSoOnfu3FJlIgo19dp54IEH1K1bN910002tUSaiVFOuH8MwNGrUKE2bNk1paWk655xz9NBDD8nv97dW2YgSTbl+LrjgAm3cuDE4vW379u164403dOWVV7ZKzYhdrf29uV2LnDVGHThwQH6/X2lpaSHb09LStHXr1nqPKSkpqXf/kpKSFqsT0akp189P/eEPf1DPnj3r/CMAa2vKtfPuu+9q8eLF2rx5cytUiGjWlOtn+/bt+utf/6rf/va3euONN7Rt2zbdfvvtOnr0qHJzc1ujbESJplw/N9xwgw4cOKCLLrpIpmnq2LFjuvXWW5m6hhNq6HtzeXm5Dh8+rPbt2zfr+zGiA0SJhx9+WMuXL9err76qpKSkSJeDKHbo0CFNmDBBixYtUteuXSNdDmJQdXW1unXrpv/6r//SsGHDNH78eN13331auHBhpEtDDCgqKtJDDz2kp556Sps2bdKqVau0evVqPfjgg5EuDQjBiM6PdO3aVXa7XaWlpSHbS0tL1b1793qP6d69e1j7w7qacv3UePTRR/Xwww9rzZo1Ovfcc1uyTEShcK+dL774Qjt37tTYsWOD26qrqyVJ7dq1U3Fxsfr27duyRSNqNOXfnh49eig+Pl52uz247ayzzlJJSYmqqqqUkJDQojUjejTl+pk1a5YmTJigm2++WZI0cOBAVVRU6JZbbtF9992nuDj+Ozrq19D35uTk5GYfzZEY0QmRkJCgYcOGqbCwMLiturpahYWFGjVqVL3HjBo1KmR/SXr77bcb3B/W1ZTrR5L+9Kc/6cEHH1RBQYGGDx/eGqUiyoR77QwYMEAff/yxNm/eHHy4XK7gKjbp6emtWT4irCn/9lx44YXatm1bMCBL0ueff64ePXoQctqYplw/P/zwQ50wUxOaA/ekA/Vr9e/NLbLEQQxbvny5mZiYaC5btsz87LPPzFtuucVMTU01S0pKTNM0zQkTJpgzZswI7v/ee++Z7dq1Mx999FFzy5YtZm5urhkfH29+/PHHkfoIiKBwr5+HH37YTEhIMF955RXz66+/Dj4OHToUqY+ACAn32vkpVl1r28K9fnbv3m126tTJ/N3vfmcWFxebr7/+utmtWzfzP/7jPyL1ERBB4V4/ubm5ZqdOncyXXnrJ3L59u/nWW2+Zffv2Na+99tpIfQREyKFDh8wPP/zQ/PDDD01J5vz5880PP/zQ3LVrl2mapjljxgxzwoQJwf23b99udujQwfz9739vbtmyxVywYIFpt9vNgoKCFqmPoFMPj8dj/vznPzcTEhLMESNGmO+//37wtdGjR5uTJk0K2f/ll182zzzzTDMhIcH8xS9+Ya5evbqVK0Y0Cef66d27tympziM3N7f1C0fEhftvz48RdBDu9bNu3Tpz5MiRZmJionn66aeb8+bNM48dO9bKVSNahHP9HD161JwzZ47Zt29fMykpyUxPTzdvv/128+DBg61fOCLK5/PV+z2m5nqZNGmSOXr06DrHDB482ExISDBPP/10c+nSpS1Wn800GWMEAAAAYC3cowMAAADAcgg6AAAAACyHoAMAAADAcgg6AAAAACyHoAMAAADAcgg6AAAAACyHoAMAAADAcgg6AAAAACyHoAMAAADAcgg6AAAAACyHoAMAAADAcv4fp7okpVpzx0MAAAAASUVORK5CYII=\n"
          },
          "metadata": {}
        }
      ]
    },
    {
      "cell_type": "markdown",
      "source": [
        "##Saving a model in PyTorch\n",
        "\n",
        "Existem três métodos principais que você deve conhecer para salvar e carregar modelos no PyTorch.\n",
        "\n",
        "* torch.save() - permite que você salve um objeto PyTorch no formato pickle do Python.\n",
        "\n",
        "* torch.load() - permite que você carregue um objeto PyTorch salvo.\n",
        "\n",
        "* torch.nn.Module.load_state_dict() - permite carregar o dicionário de estado (state_dict) salvo de um modelo."
      ],
      "metadata": {
        "id": "ARbvTRbNilB3"
      }
    },
    {
      "cell_type": "code",
      "source": [
        "#Saving our pytorch model\n",
        "from pathlib import Path\n",
        "#1. Create models directory\n",
        "model_path = Path(\"models\")\n",
        "model_path.mkdir(parents=True, exist_ok =True)\n",
        "#2. Create model save path\n",
        "model_name = \"01_pytorch_workflow_model.pth\"\n",
        "model_save_path = model_path / model_name\n",
        "model_save_path\n",
        "#3. save the model state dict\n",
        "print(f\"Saving model to: {model_save_path}\")\n",
        "torch.save(obj=model_0.state_dict(),\n",
        "           f= model_save_path)"
      ],
      "metadata": {
        "colab": {
          "base_uri": "https://localhost:8080/"
        },
        "id": "BnLH6jHdjh_i",
        "outputId": "dfb58139-a9ea-4251-9c9d-73204d4fdfa4"
      },
      "execution_count": null,
      "outputs": [
        {
          "output_type": "stream",
          "name": "stdout",
          "text": [
            "Saving model to: models/01_pytorch_workflow_model.pth\n"
          ]
        }
      ]
    },
    {
      "cell_type": "markdown",
      "source": [
        "##Loading a pytorch model\n",
        "\n",
        "Já que salvamos o state_dict() do nosso modelo ao invés do modelo inteiro, vamos criar uma nova instância da nossa classe de modelo e carregar o state_dict() salvo nela."
      ],
      "metadata": {
        "id": "kwUcsNUql7vB"
      }
    },
    {
      "cell_type": "code",
      "source": [
        "model_0.state_dict()"
      ],
      "metadata": {
        "colab": {
          "base_uri": "https://localhost:8080/"
        },
        "id": "z3dNcbDzmZtT",
        "outputId": "b7351b90-48cf-4b28-ce6f-24cb0305cf85"
      },
      "execution_count": null,
      "outputs": [
        {
          "output_type": "execute_result",
          "data": {
            "text/plain": [
              "OrderedDict([('weights', tensor([0.6990])), ('bias', tensor([0.3093]))])"
            ]
          },
          "metadata": {},
          "execution_count": 28
        }
      ]
    },
    {
      "cell_type": "code",
      "source": [
        "#To load in a save state_dict we have  to instantiete a new instance of our model class\n",
        "loaded_model_0 = LinearRegressionModel()\n",
        "#Load the save state_dict of model _0 (this will update the new instance with updated parameters)\n",
        "loaded_model_0.load_state_dict(torch.load(f=model_save_path))"
      ],
      "metadata": {
        "colab": {
          "base_uri": "https://localhost:8080/"
        },
        "id": "WhruSCTFmgQs",
        "outputId": "921bb54a-ac4b-4708-a4a5-a6e587317894"
      },
      "execution_count": null,
      "outputs": [
        {
          "output_type": "execute_result",
          "data": {
            "text/plain": [
              "<All keys matched successfully>"
            ]
          },
          "metadata": {},
          "execution_count": 29
        }
      ]
    },
    {
      "cell_type": "code",
      "source": [
        "loaded_model_0.state_dict()"
      ],
      "metadata": {
        "colab": {
          "base_uri": "https://localhost:8080/"
        },
        "id": "7f6jzyzonIuA",
        "outputId": "f3daa1bc-bf32-4ad0-fdc2-40b51e254596"
      },
      "execution_count": null,
      "outputs": [
        {
          "output_type": "execute_result",
          "data": {
            "text/plain": [
              "OrderedDict([('weights', tensor([0.6990])), ('bias', tensor([0.3093]))])"
            ]
          },
          "metadata": {},
          "execution_count": 30
        }
      ]
    },
    {
      "cell_type": "code",
      "source": [
        "#Make some predictions with our loaded model\n",
        "loaded_model_0.eval()\n",
        "with torch.inference_mode():\n",
        "  loaded_model_preds = loaded_model_0(X_test)\n",
        "  loaded_model_preds"
      ],
      "metadata": {
        "id": "dZHZfeJOnuNl"
      },
      "execution_count": null,
      "outputs": []
    },
    {
      "cell_type": "code",
      "source": [
        "#compare loaded model preds with original model preds\n",
        "y_preds == loaded_model_preds"
      ],
      "metadata": {
        "colab": {
          "base_uri": "https://localhost:8080/"
        },
        "id": "7LNk0OzRoF4v",
        "outputId": "1441d65f-cff9-45ec-e2f2-b545f1d14c92"
      },
      "execution_count": null,
      "outputs": [
        {
          "output_type": "execute_result",
          "data": {
            "text/plain": [
              "tensor([[False],\n",
              "        [False],\n",
              "        [False],\n",
              "        [False],\n",
              "        [False],\n",
              "        [False],\n",
              "        [False],\n",
              "        [False],\n",
              "        [False],\n",
              "        [False]])"
            ]
          },
          "metadata": {},
          "execution_count": 32
        }
      ]
    },
    {
      "cell_type": "code",
      "source": [
        "#make some model preds\n",
        "model_0.eval()\n",
        "with torch.inference_mode():\n",
        "  y_preds = model_0(X_test)\n",
        "y_preds"
      ],
      "metadata": {
        "colab": {
          "base_uri": "https://localhost:8080/"
        },
        "id": "xau77jlRo1hl",
        "outputId": "b31a90bf-d3f2-4a2e-83fb-9cd5d5d4faef"
      },
      "execution_count": null,
      "outputs": [
        {
          "output_type": "execute_result",
          "data": {
            "text/plain": [
              "tensor([[0.8685],\n",
              "        [0.8825],\n",
              "        [0.8965],\n",
              "        [0.9105],\n",
              "        [0.9245],\n",
              "        [0.9384],\n",
              "        [0.9524],\n",
              "        [0.9664],\n",
              "        [0.9804],\n",
              "        [0.9944]])"
            ]
          },
          "metadata": {},
          "execution_count": 33
        }
      ]
    },
    {
      "cell_type": "markdown",
      "source": [
        "##Puttin it all together\n",
        "Let´s go back through the steps above and see it all in one place"
      ],
      "metadata": {
        "id": "ewqOTgOFqA8G"
      }
    },
    {
      "cell_type": "code",
      "source": [
        "#import pytorch and matplotlib\n",
        "import torch\n",
        "from torch import nn\n",
        "import matplotlib.pyplot as plt\n",
        "#check pytorch version\n",
        "torch.__version__"
      ],
      "metadata": {
        "id": "m0FlA5M5qO2F"
      },
      "execution_count": null,
      "outputs": []
    },
    {
      "cell_type": "markdown",
      "source": [
        "Criar um código agnóstico de dispositivo.\n",
        "\n",
        "Isso significa que, se tivermos acesso a uma GPU, nosso código a usará (para uma computação potencialmente mais rápida).\n",
        "\n",
        "Se nenhuma GPU estiver disponível, o código usará a CPU como padrão."
      ],
      "metadata": {
        "id": "uaaj6VPUqpsf"
      }
    },
    {
      "cell_type": "code",
      "source": [
        "#Setup Device agnostic code\n",
        "device = \"cuda\" if torch.cuda.is_available() else \"cpu\"\n",
        "device"
      ],
      "metadata": {
        "id": "3Wz57bp_rFtY"
      },
      "execution_count": null,
      "outputs": []
    },
    {
      "cell_type": "code",
      "source": [
        "!nvidia-smi"
      ],
      "metadata": {
        "id": "muiWLOhDrW5O"
      },
      "execution_count": null,
      "outputs": []
    },
    {
      "cell_type": "markdown",
      "source": [
        "##Data\n"
      ],
      "metadata": {
        "id": "GeveguaIrB7D"
      }
    },
    {
      "cell_type": "code",
      "source": [
        "#Create some data using the linear regression formula of y = weight * X + bias\n",
        "weight = 0.7\n",
        "bias = 0.3\n",
        "\n",
        "#create range values\n",
        "start = 0\n",
        "end = 1\n",
        "step = 0.02\n",
        "#create X and y (features and labels)\n",
        "X = torch.arange(start, end, step).unsqueeze(dim=1) #without unsqueeze, errors will pop up\n",
        "y = weight * X + bias\n",
        "X[: 10], y[:10]"
      ],
      "metadata": {
        "id": "EIt3aDGxwh2M"
      },
      "execution_count": null,
      "outputs": []
    },
    {
      "cell_type": "code",
      "source": [
        "#Split data\n",
        "train_split = int(0.8 * len(X))\n",
        "X_train, y_train = X[:train_split], y[:train_split]\n",
        "X_test, y_test = X[train_split:], y[train_split:]\n",
        "len(X_train), len(y_train), len(X_test), len(y_test)"
      ],
      "metadata": {
        "id": "JEAWa3d0__bQ"
      },
      "execution_count": null,
      "outputs": []
    },
    {
      "cell_type": "code",
      "source": [
        "def plot_predictions(train_data= X_train,\n",
        "                     train_labels= y_train,\n",
        "                     test_data= X_test,\n",
        "                     test_labels= y_test,\n",
        "                     predictions= None):\n",
        "  \"\"\"\n",
        "  Plots training data, test data and compares predictions.\n",
        "  \"\"\"\n",
        "  plt.figure(figsize=(10, 7))\n",
        "  #plot train data in blue\n",
        "  plt.scatter(train_data, train_labels, c=\"b\", s=4, label=\"Training data\")\n",
        "  #plot test data in green\n",
        "  plt.scatter(test_data, test_labels, c=\"g\", s=4, label=\"Testing data\")\n",
        "  #Are the predictions?\n",
        "  if predictions is not None:\n",
        "    #plot the predictions if they exist\n",
        "    plt.scatter(test_data, predictions, c=\"r\", s=4, label=\"Predictions\")\n",
        "  #show the legends\n",
        "  plt.legend(prop={\"size\": 14});\n",
        "\n"
      ],
      "metadata": {
        "id": "2IjGOgRoYFXQ"
      },
      "execution_count": null,
      "outputs": []
    },
    {
      "cell_type": "code",
      "source": [
        "#Plot the data\n",
        "#note: if you don't have the plot_predictions() function loaded, this will error\n",
        "plot_predictions(X_train, y_train, X_test, y_test)"
      ],
      "metadata": {
        "id": "nwX55EoLYJjF"
      },
      "execution_count": null,
      "outputs": []
    },
    {
      "cell_type": "markdown",
      "source": [
        "##Building a PyTorch Linear Mode"
      ],
      "metadata": {
        "id": "uKPyyd8CaOhY"
      }
    },
    {
      "cell_type": "code",
      "source": [
        "#Create a Linear model by subclassing nn.Module\n",
        "class LinearRegressionModelV2(nn.Module):\n",
        "  def __init__(self):\n",
        "    super().__init__() # Call the parent class constructor\n",
        "    #use nn.linear() for creating model parameters\n",
        "    self.linear_layer = nn.Linear(in_features=1,\n",
        "                                  out_features=1)\n",
        "\n",
        "  def forward(self, X: torch.Tensor) -> torch.Tensor:\n",
        "    return self.linear_layer(X)\n",
        "\n",
        "#Set the manual seed\n",
        "torch.manual_seed(42)\n",
        "model_1 = LinearRegressionModelV2()\n",
        "model_1, model_1.state_dict()"
      ],
      "metadata": {
        "id": "UYxeKwrHamYj"
      },
      "execution_count": null,
      "outputs": []
    },
    {
      "cell_type": "code",
      "source": [
        "X_train[:5], y_train[:5]"
      ],
      "metadata": {
        "id": "WvdgfbWCbf7Q"
      },
      "execution_count": null,
      "outputs": []
    },
    {
      "cell_type": "code",
      "source": [
        "#check the model current device\n",
        "next(model_1.parameters()).device\n"
      ],
      "metadata": {
        "id": "CzXzV6qbeeyO"
      },
      "execution_count": null,
      "outputs": []
    },
    {
      "cell_type": "code",
      "source": [
        "#set the model to use target device\n",
        "model_1.to(device)\n",
        "next(model_1.parameters()).device\n"
      ],
      "metadata": {
        "id": "1TANpLw3eXEb"
      },
      "execution_count": null,
      "outputs": []
    },
    {
      "cell_type": "markdown",
      "source": [
        "###Training\n",
        "* Loss function\n",
        "* Optimizer\n",
        "* Training Loop\n",
        "* Testing Loop"
      ],
      "metadata": {
        "id": "yk5OYsYWfDo3"
      }
    },
    {
      "cell_type": "code",
      "source": [
        "#Setup loss function\n",
        "loss_fn = nn.L1Loss() #same as MAE\n",
        "\n",
        "#setup our optimizer\n",
        "optimizer = torch.optim.SGD(params=model_1.parameters(),\n",
        "                            lr=0.01, )"
      ],
      "metadata": {
        "id": "ImT3erqLfV7C"
      },
      "execution_count": null,
      "outputs": []
    },
    {
      "cell_type": "code",
      "source": [
        "#Let´s write a training Loop\n",
        "torch.manual_seed(42)\n",
        "\n",
        "epochs = 200\n",
        "\n",
        "# Send data to the target device\n",
        "X_train = X_train.to(device)\n",
        "y_train = y_train.to(device)\n",
        "X_test = X_test.to(device)\n",
        "y_test = y_test.to(device)\n",
        "\n",
        "\n",
        "for epoch in range(epochs):\n",
        "  model_1.train()\n",
        "  #1. Forward pass\n",
        "  y_pred = model_1(X_train)\n",
        "\n",
        "  #2. Calculate the loss\n",
        "  loss = loss_fn(y_pred, y_train)\n",
        "\n",
        "  #3. optimizer zero grad\n",
        "  optimizer.zero_grad()\n",
        "\n",
        "  #4. loss backward\n",
        "  loss.backward()\n",
        "\n",
        "  #5. optimizer step\n",
        "  optimizer.step()\n",
        "##Testing\n",
        "model_1.eval()\n",
        "with torch.inference_mode():\n",
        "  test_pred = model_1(X_test)\n",
        "  test_loss = loss_fn(test_pred, y_test)\n",
        "  #Print out what´s happening\n",
        "  if epoch % 10 == 0:\n",
        "    print(f\"Epoch: {epoch} | Loss: {loss} | test loss: {test_loss}\")\n"
      ],
      "metadata": {
        "id": "ulQoRJ-NgFis"
      },
      "execution_count": null,
      "outputs": []
    },
    {
      "cell_type": "markdown",
      "source": [
        "###Making and evaluating predictions\n"
      ],
      "metadata": {
        "id": "SVEXlt0ekHIp"
      }
    },
    {
      "cell_type": "code",
      "source": [
        "#Turns model int evaluating mode\n",
        "model_1.eval()\n",
        "\n",
        "#Make predictions on the best data\n",
        "with torch.inference_mode():\n",
        "  y_preds = model_1(X_test)\n",
        "y_preds\n"
      ],
      "metadata": {
        "id": "5Y0BaH0FkNQy"
      },
      "execution_count": null,
      "outputs": []
    },
    {
      "cell_type": "code",
      "source": [
        "#check out our model predictions visually\n",
        "plot_predictions(predictions=y_preds.cpu())"
      ],
      "metadata": {
        "id": "JWsWWHC6kkds"
      },
      "execution_count": null,
      "outputs": []
    },
    {
      "cell_type": "markdown",
      "source": [
        "###Saving and loading a trained model"
      ],
      "metadata": {
        "id": "r-vxgAvvlid2"
      }
    },
    {
      "cell_type": "code",
      "source": [
        "from pathlib import Path\n",
        "\n",
        "#1. Create models directory\n",
        "MODEL_PATH = Path(\"models\")\n",
        "MODEL_PATH.mkdir(parents=True, exist_ok=True)\n",
        "\n",
        "# 2. Create model save path\n",
        "MODEL_NAME = \"01_pytorch_workflow_model_1.pth\"\n",
        "MODEL_SAVE_PATH = MODEL_PATH / MODEL_NAME\n",
        "\n",
        "# 3. Save the model state dict\n",
        "print(f\"Saving model to: {MODEL_SAVE_PATH}\")\n",
        "torch.save(obj=model_1.state_dict(),\n",
        "           f=MODEL_SAVE_PATH)"
      ],
      "metadata": {
        "id": "Bb3TFOb4lp2u"
      },
      "execution_count": null,
      "outputs": []
    },
    {
      "cell_type": "code",
      "source": [
        "#Load a PyTorch model\n",
        "\n",
        "#Create a new instance of lienar regression model V2\n",
        "loaded_model_1 = LinearRegressionModelV2()\n",
        "\n",
        "#Load the saved model_1 state_dict\n",
        "loaded_model_1.load_state_dict(torch.load(MODEL_SAVE_PATH))\n",
        "\n",
        "#Put the loaded model to device\n",
        "loaded_model_1.to(device)"
      ],
      "metadata": {
        "id": "BOsd2YX8nr0b"
      },
      "execution_count": null,
      "outputs": []
    },
    {
      "cell_type": "code",
      "source": [
        "next(loaded_model_1.parameters())"
      ],
      "metadata": {
        "id": "2vVZyrWDoyEg"
      },
      "execution_count": null,
      "outputs": []
    },
    {
      "cell_type": "code",
      "source": [
        "loaded_model_1.state_dict()\n"
      ],
      "metadata": {
        "id": "FvOKD6SIpJyl"
      },
      "execution_count": null,
      "outputs": []
    },
    {
      "cell_type": "code",
      "source": [
        "#Evaluate loaded model\n",
        "loaded_model_1.eval()\n",
        "with torch.inference_mode():\n",
        "  loaded_model_1_preds = loaded_model_1(X_test)\n",
        "y_preds == loaded_model_1_preds"
      ],
      "metadata": {
        "id": "jOgbtCKGpKp1"
      },
      "execution_count": null,
      "outputs": []
    }
  ]
}
